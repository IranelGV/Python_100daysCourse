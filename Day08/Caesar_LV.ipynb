{
 "cells": [
  {
   "cell_type": "code",
   "execution_count": 69,
   "id": "93303ba7",
   "metadata": {},
   "outputs": [
    {
     "name": "stdout",
     "output_type": "stream",
     "text": [
      "Type 'encode' to encrypt, type 'decode' to decrypt:\n",
      "decode\n",
      "Type your message:\n",
      "hello\n",
      "Type the shift number:\n",
      "5\n"
     ]
    }
   ],
   "source": [
    "alphabet = ['a', 'b', 'c', 'd', 'e', 'f', 'g', 'h', 'i', 'j', 'k', 'l', 'm', 'n', 'o', 'p', 'q', 'r', 's', 't', 'u', 'v', 'w', 'x', 'y', 'z', 'a', 'b', 'c', 'd', 'e', 'f', 'g', 'h', 'i', 'j', 'k', 'l', 'm', 'n', 'o', 'p', 'q', 'r', 's', 't', 'u', 'v', 'w', 'x', 'y', 'z']\n",
    "\n",
    "direction = input(\"Type 'encode' to encrypt, type 'decode' to decrypt:\\n\")\n",
    "text = input(\"Type your message:\\n\").lower()\n",
    "shift = int(input(\"Type the shift number:\\n\"))\n",
    "\n",
    "\n",
    "def encrypt(plain_text, shift_amount):\n",
    "    \n",
    "    cipher_tex=\"\"\n",
    "    \n",
    "    for letter in text:\n",
    "        \n",
    "        indexing_code = alphabet.index(letter)\n",
    "        indexing_shift = indexing_code + shift\n",
    "        converting_to_letter = alphabet[indexing_shift]\n",
    "        cipher_tex += converting_to_letter\n",
    "    \n",
    "        \n",
    "    print(f\"The encoded text is {cipher_tex}\")\n",
    "    \n",
    "\n",
    "\n",
    "def decrypt(cipher_text, shift_amount):\n",
    "    \n",
    "    plain_text =\"\"\n",
    "    \n",
    "    for letter in cipher_tex:\n",
    "        \n",
    "        position = alphabet.index(letter)\n",
    "        backwards_abc = position - shift\n",
    "        converting_real_text = alphabet[backwards_abc]\n",
    "        plain_text += converting_real_tex\n",
    "        \n",
    "        \n",
    "    print(f\"The decoded text is {plain_text}\")\n",
    "        \n",
    "    \n",
    "\n",
    "if direction == \"encode\":\n",
    "    \n",
    "    encrypt(plain_text=text, shift_amount=shift)\n",
    "    \n",
    "elif direction == \"decrypt\":\n",
    "     decrypt(cipher_text= text, shift_amount=shift)\n",
    "     \n",
    "\n",
    "\n",
    "\n",
    "\n",
    "    \n"
   ]
  },
  {
   "cell_type": "code",
   "execution_count": 77,
   "id": "41ca1eb4",
   "metadata": {},
   "outputs": [],
   "source": [
    "def caesar(start_text, shift_amount, cipher_direction):\n",
    "    \n",
    "    cipher_tex=\"\"\n",
    "    plain_text = \"\"\n",
    "    \n",
    "    if direction == \"encode\":\n",
    "    \n",
    "       for letter in text:\n",
    "        \n",
    "            indexing_code = alphabet.index(letter)\n",
    "            indexing_shift = indexing_code + shift\n",
    "            converting_to_letter = alphabet[indexing_shift]\n",
    "            cipher_tex += converting_to_letter\n",
    "    \n",
    "        \n",
    "            print(f\"The encoded text is {cipher_tex}\")\n",
    "    \n",
    "    \n",
    "    \n",
    "    \n",
    "    elif direction == \"decrypt\":\n",
    "        \n",
    "        \n",
    "        for letter in cipher_tex:\n",
    "        \n",
    "            position = alphabet.index(letter)\n",
    "            backwards_abc = position - shift\n",
    "            converting_real_text = alphabet[backwards_abc]\n",
    "            plain_text += converting_real_tex\n",
    "        \n",
    "        \n",
    "        print(f\"The decoded text is {plain_text}\")\n",
    "    "
   ]
  },
  {
   "cell_type": "code",
   "execution_count": 79,
   "id": "9834c97c",
   "metadata": {},
   "outputs": [],
   "source": [
    "caesar(\"decode\", \"mjqqt\", 5)"
   ]
  },
  {
   "cell_type": "code",
   "execution_count": null,
   "id": "6be2ceee",
   "metadata": {},
   "outputs": [],
   "source": []
  },
  {
   "cell_type": "code",
   "execution_count": null,
   "id": "1b3d0758",
   "metadata": {},
   "outputs": [],
   "source": [
    "def caesar(start_text, shift_amount, cipher_direction):\n",
    "    \n",
    "    end_text= \"\"\n",
    "    \n",
    "    for letter in start_text:\n",
    "        \n",
    "        position = alphabet.index(letter)\n",
    "        \n",
    "        if cipher_direction == \"encode\":\n",
    "            \n",
    "            indexing_shift = indexing_code + shift\n",
    "            converting_to_letter = alphabet[indexing_shift]\n",
    "            cipher_tex += converting_to_letter\n",
    "            \n",
    "            print(f\"The encoded text is {cipher_tex}\")\n",
    "        \n",
    "        "
   ]
  },
  {
   "cell_type": "code",
   "execution_count": null,
   "id": "211a3b3a",
   "metadata": {},
   "outputs": [],
   "source": []
  },
  {
   "cell_type": "code",
   "execution_count": null,
   "id": "ac379724",
   "metadata": {},
   "outputs": [],
   "source": []
  },
  {
   "cell_type": "code",
   "execution_count": 53,
   "id": "7726cafb",
   "metadata": {},
   "outputs": [
    {
     "name": "stdout",
     "output_type": "stream",
     "text": [
      "The decoded text is hello\n"
     ]
    }
   ],
   "source": [
    "decryp_text =\"\"\n",
    "text= \"mjqqt\"\n",
    "shift=5\n",
    "    \n",
    "for letter in text:\n",
    "        \n",
    "        position = alphabet.index(letter)\n",
    "        \n",
    "        backwards_abc = position - shift\n",
    "        \n",
    "        decryp_text += alphabet[backwards_abc]\n",
    "        \n",
    "        \n",
    "print(f\"The decoded text is {decryp_text}\")"
   ]
  },
  {
   "cell_type": "code",
   "execution_count": 40,
   "id": "252446d6",
   "metadata": {},
   "outputs": [],
   "source": [
    "def encrypte(plain_text, shift_amount):\n",
    "    \n",
    "    cipher_tex=\"\"\n",
    "    \n",
    "    for letter in text:\n",
    "        \n",
    "        indexing_code = alphabet.index(letter)\n",
    "        indexing_shift = indexing_code + shift\n",
    "        converting_to_letter = alphabet[indexing_shift]\n",
    "        cipher_tex += converting_to_letter\n",
    "    \n",
    "        \n",
    "    print(f\"The encoded text is {cipher_tex}\")"
   ]
  },
  {
   "cell_type": "code",
   "execution_count": 41,
   "id": "604b2dd0",
   "metadata": {},
   "outputs": [
    {
     "name": "stdout",
     "output_type": "stream",
     "text": [
      "The encoded text is khoor\n"
     ]
    }
   ],
   "source": [
    "encrypte(\"hello\", 5)"
   ]
  },
  {
   "cell_type": "code",
   "execution_count": 12,
   "id": "dc854f29",
   "metadata": {},
   "outputs": [
    {
     "name": "stdout",
     "output_type": "stream",
     "text": [
      "7\n",
      "10\n",
      "k\n",
      "4\n",
      "7\n",
      "h\n",
      "11\n",
      "14\n",
      "o\n",
      "11\n",
      "14\n",
      "o\n",
      "14\n",
      "17\n",
      "r\n",
      "The encoded text is khoor\n"
     ]
    }
   ],
   "source": [
    "alphabet = ['a', 'b', 'c', 'd', 'e', 'f', 'g', 'h', 'i', 'j', 'k', 'l', 'm', 'n', 'o', 'p', 'q', 'r', 's', 't', 'u', 'v', 'w', 'x', 'y', 'z']\n",
    "shift_amount= 3\n",
    "plain_text = \"hello\"\n",
    "cipher_text= \"\"\n",
    "\n",
    "for letter in plain_text:\n",
    "    \n",
    "        position = alphabet.index(letter)\n",
    "        \n",
    "        new_position = position + shift_amount\n",
    "        new_letter = alphabet[new_position]\n",
    "        cipher_text += new_letter\n",
    "        \n",
    "        print(position)\n",
    "        print(new_position)\n",
    "        print(new_letter)\n",
    "        \n",
    "  \n",
    "        \n",
    "        \n",
    "print(f\"The encoded text is {cipher_text}\")"
   ]
  },
  {
   "cell_type": "code",
   "execution_count": null,
   "id": "0a1a1bd6",
   "metadata": {},
   "outputs": [],
   "source": []
  },
  {
   "cell_type": "code",
   "execution_count": null,
   "id": "7a472773",
   "metadata": {},
   "outputs": [],
   "source": []
  },
  {
   "cell_type": "code",
   "execution_count": null,
   "id": "8da275f3",
   "metadata": {},
   "outputs": [],
   "source": []
  },
  {
   "cell_type": "code",
   "execution_count": null,
   "id": "7a6819ed",
   "metadata": {},
   "outputs": [],
   "source": []
  }
 ],
 "metadata": {
  "kernelspec": {
   "display_name": "Python 3 (ipykernel)",
   "language": "python",
   "name": "python3"
  },
  "language_info": {
   "codemirror_mode": {
    "name": "ipython",
    "version": 3
   },
   "file_extension": ".py",
   "mimetype": "text/x-python",
   "name": "python",
   "nbconvert_exporter": "python",
   "pygments_lexer": "ipython3",
   "version": "3.9.13"
  }
 },
 "nbformat": 4,
 "nbformat_minor": 5
}
