{
 "cells": [
  {
   "cell_type": "markdown",
   "id": "cda129bf",
   "metadata": {},
   "source": [
    "### Final Code "
   ]
  },
  {
   "cell_type": "code",
   "execution_count": 104,
   "id": "93303ba7",
   "metadata": {},
   "outputs": [
    {
     "name": "stdout",
     "output_type": "stream",
     "text": [
      "Type 'encode' to encrypt, type 'decode' to decrypt:\n",
      "decode\n",
      "Type your message:\n",
      "mjqqt\n",
      "Type the shift number:\n",
      "5\n",
      "The decoded text is hello\n"
     ]
    }
   ],
   "source": [
    "alphabet = ['a', 'b', 'c', 'd', 'e', 'f', 'g', 'h', 'i', 'j', 'k', 'l', 'm', 'n', 'o', 'p', 'q', 'r', 's', 't', 'u', 'v', 'w', 'x', 'y', 'z', 'a', 'b', 'c', 'd', 'e', 'f', 'g', 'h', 'i', 'j', 'k', 'l', 'm', 'n', 'o', 'p', 'q', 'r', 's', 't', 'u', 'v', 'w', 'x', 'y', 'z']\n",
    "\n",
    "direction = input(\"Type 'encode' to encrypt, type 'decode' to decrypt:\\n\")\n",
    "text = input(\"Type your message:\\n\").lower()\n",
    "shift = int(input(\"Type the shift number:\\n\"))\n",
    "\n",
    "\n",
    "def encrypt(plain_text, shift_amount):\n",
    "    \n",
    "    cipher_tex=\"\"\n",
    "    \n",
    "    for letter in text:\n",
    "        \n",
    "        indexing_code = alphabet.index(letter)\n",
    "        indexing_shift = indexing_code + shift\n",
    "        converting_to_letter = alphabet[indexing_shift]\n",
    "        cipher_tex += converting_to_letter\n",
    "    \n",
    "        \n",
    "    print(f\"The encoded text is {cipher_tex}\")\n",
    "    \n",
    "\n",
    "\n",
    "def decrypt(cipher_text, shift_amount):\n",
    "    \n",
    "    plain_text =\"\"\n",
    "    \n",
    "    for letter in cipher_text:\n",
    "        \n",
    "        position = alphabet.index(letter)\n",
    "        backwards_abc = position - shift\n",
    "        converting_real_text = alphabet[backwards_abc]\n",
    "        plain_text += converting_real_text\n",
    "        \n",
    "        \n",
    "    print(f\"The decoded text is {plain_text}\")\n",
    "        \n",
    "    \n",
    "\n",
    "if direction == \"encode\":\n",
    "    \n",
    "    encrypt(plain_text=text, shift_amount=shift)\n",
    "    \n",
    "elif direction == \"decode\":\n",
    "    \n",
    "    decrypt(cipher_text= text, shift_amount=shift)\n",
    "     \n",
    "\n",
    "\n",
    "\n",
    "\n",
    "    \n"
   ]
  },
  {
   "cell_type": "code",
   "execution_count": 88,
   "id": "cc3caf32",
   "metadata": {},
   "outputs": [
    {
     "name": "stdout",
     "output_type": "stream",
     "text": [
      "The encoded text is mjqqt\n"
     ]
    }
   ],
   "source": [
    "encrypt(\"hello\", 5)"
   ]
  },
  {
   "cell_type": "code",
   "execution_count": 94,
   "id": "25aafc68",
   "metadata": {},
   "outputs": [
    {
     "name": "stdout",
     "output_type": "stream",
     "text": [
      "The decoded text is hello\n"
     ]
    }
   ],
   "source": [
    "decrypt(\"mjqqt\", 5)"
   ]
  },
  {
   "cell_type": "markdown",
   "id": "7857d071",
   "metadata": {},
   "source": [
    "### Caesar Function"
   ]
  },
  {
   "cell_type": "code",
   "execution_count": 105,
   "id": "68b38c07",
   "metadata": {},
   "outputs": [],
   "source": [
    "def caesar(direction, text, shift):\n",
    "    \n",
    "    alphabet = ['a', 'b', 'c', 'd', 'e', 'f', 'g', 'h', 'i', 'j', 'k', 'l', 'm', 'n', 'o', 'p', 'q', 'r', 's', 't', 'u', 'v', 'w', 'x', 'y', 'z', 'a', 'b', 'c', 'd', 'e', 'f', 'g', 'h', 'i', 'j', 'k', 'l', 'm', 'n', 'o', 'p', 'q', 'r', 's', 't', 'u', 'v', 'w', 'x', 'y', 'z']\n",
    "    \n",
    "    result_text=\"\"\n",
    "    \n",
    "    \n",
    "    for letter in text:\n",
    "        \n",
    "        position = alphabet.index(letter)\n",
    "        \n",
    "        if direction == \"encode\":\n",
    "            \n",
    "            indexing_shift = position + shift\n",
    "            converting_to_letter = alphabet[indexing_shift]\n",
    "            result_text += converting_to_letter\n",
    "            \n",
    "            \n",
    "        elif direction == \"code\":\n",
    "            \n",
    "            backwards_abc = position - shift\n",
    "            converting_real_text = alphabet[backwards_abc]\n",
    "            result_text += converting_real_text\n",
    "            \n",
    "    print(f\"The {direction} text is {result_text}\") \n",
    "            \n",
    "            \n",
    "            "
   ]
  },
  {
   "cell_type": "code",
   "execution_count": null,
   "id": "92b9cf25",
   "metadata": {},
   "outputs": [],
   "source": [
    "caesar(encode, text, shift)"
   ]
  },
  {
   "cell_type": "code",
   "execution_count": null,
   "id": "81f40675",
   "metadata": {},
   "outputs": [],
   "source": [
    "def caesar(direction, text, shift):\n",
    "    alphabet = ['a', 'b', 'c', 'd', 'e', 'f', 'g', 'h', 'i', 'j', 'k', 'l', 'm', 'n', 'o', 'p', 'q', 'r', 's', 't', 'u', 'v', 'w', 'x', 'y', 'z']\n",
    "    \n",
    "    result_text = \"\"\n",
    "    \n",
    "    for letter in text:\n",
    "        \n",
    "        \n",
    "            position = alphabet.index(letter)\n",
    "            if direction == \"encode\":\n",
    "                new_position = (position + shift) % len(alphabet)\n",
    "            elif direction == \"decode\":  # Cambiado de \"code\" a \"decode\"\n",
    "                new_position = (position - shift) % len(alphabet)\n",
    "            result_text += alphabet[new_position]\n",
    "       \n",
    "    \n",
    "    print(f\"The {direction}d text is {result_text}\")\n",
    "\n",
    "# Ejemplo de uso:\n",
    "caesar(\"encode\", \"hello\", 5)\n",
    "caesar(\"decode\", \"mjqqt\", 5)\n"
   ]
  },
  {
   "cell_type": "code",
   "execution_count": null,
   "id": "d5692dfd",
   "metadata": {},
   "outputs": [],
   "source": []
  },
  {
   "cell_type": "code",
   "execution_count": null,
   "id": "23793e92",
   "metadata": {},
   "outputs": [],
   "source": []
  },
  {
   "cell_type": "code",
   "execution_count": null,
   "id": "44a2ad5d",
   "metadata": {},
   "outputs": [],
   "source": []
  },
  {
   "cell_type": "code",
   "execution_count": null,
   "id": "c85ad7c9",
   "metadata": {},
   "outputs": [],
   "source": []
  },
  {
   "cell_type": "code",
   "execution_count": null,
   "id": "9d75ae6e",
   "metadata": {},
   "outputs": [],
   "source": []
  },
  {
   "cell_type": "code",
   "execution_count": 77,
   "id": "f307562f",
   "metadata": {},
   "outputs": [],
   "source": [
    "def caesar(start_text, shift_amount, cipher_direction):\n",
    "    \n",
    "    cipher_tex=\"\"\n",
    "    plain_text = \"\"\n",
    "    \n",
    "    if direction == \"encode\":\n",
    "    \n",
    "       for letter in text:\n",
    "        \n",
    "            indexing_code = alphabet.index(letter)\n",
    "            indexing_shift = indexing_code + shift\n",
    "            converting_to_letter = alphabet[indexing_shift]\n",
    "            cipher_tex += converting_to_letter\n",
    "    \n",
    "        \n",
    "            print(f\"The encoded text is {cipher_tex}\")\n",
    "    \n",
    "    \n",
    "    \n",
    "    \n",
    "    elif direction == \"decrypt\":\n",
    "        \n",
    "        \n",
    "        for letter in cipher_tex:\n",
    "        \n",
    "            position = alphabet.index(letter)\n",
    "            backwards_abc = position - shift\n",
    "            converting_real_text = alphabet[backwards_abc]\n",
    "            plain_text += converting_real_tex\n",
    "        \n",
    "        \n",
    "        print(f\"The decoded text is {plain_text}\")\n",
    "    "
   ]
  },
  {
   "cell_type": "code",
   "execution_count": null,
   "id": "3fb18b72",
   "metadata": {},
   "outputs": [],
   "source": []
  },
  {
   "cell_type": "code",
   "execution_count": null,
   "id": "b3540315",
   "metadata": {},
   "outputs": [],
   "source": []
  },
  {
   "cell_type": "code",
   "execution_count": null,
   "id": "0779306d",
   "metadata": {},
   "outputs": [],
   "source": []
  },
  {
   "cell_type": "code",
   "execution_count": null,
   "id": "2b8613e8",
   "metadata": {},
   "outputs": [],
   "source": []
  },
  {
   "cell_type": "code",
   "execution_count": null,
   "id": "c7c5f2a0",
   "metadata": {},
   "outputs": [],
   "source": []
  },
  {
   "cell_type": "code",
   "execution_count": null,
   "id": "78b586ea",
   "metadata": {},
   "outputs": [],
   "source": []
  },
  {
   "cell_type": "code",
   "execution_count": null,
   "id": "0a6af591",
   "metadata": {},
   "outputs": [],
   "source": []
  }
 ],
 "metadata": {
  "kernelspec": {
   "display_name": "Python 3 (ipykernel)",
   "language": "python",
   "name": "python3"
  },
  "language_info": {
   "codemirror_mode": {
    "name": "ipython",
    "version": 3
   },
   "file_extension": ".py",
   "mimetype": "text/x-python",
   "name": "python",
   "nbconvert_exporter": "python",
   "pygments_lexer": "ipython3",
   "version": "3.9.13"
  }
 },
 "nbformat": 4,
 "nbformat_minor": 5
}
