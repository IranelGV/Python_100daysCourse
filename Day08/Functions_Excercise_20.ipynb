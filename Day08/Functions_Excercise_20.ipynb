{
 "cells": [
  {
   "cell_type": "markdown",
   "id": "97a9cc00",
   "metadata": {},
   "source": [
    "You are painting a wall. The instructions on the paint can says that 1 can of paint can cover 5 square meters of wall. Given a random height and width of wall, calculate how many cans of paint you'll need to buy.\n",
    "\n",
    "number of cans = (wall height x wall width) ÷ coverage per can.\n",
    "\n",
    "e.g. Height = 2, Width = 4, Coverage = 5\n",
    "\n",
    "number of cans = (2 * 4) / 5\n",
    "               = 1.6\n",
    "But because you can't buy 0.6 of a can of paint, the result should be rounded up to 2 cans.\n",
    "\n",
    "IMPORTANT: Notice the name of the function and parameters must match those on line 13 for the code to work.\n",
    "\n",
    "Example Input\n",
    "3\n",
    "9\n",
    "Example Output\n",
    "You'll need 6 cans of paint."
   ]
  },
  {
   "cell_type": "code",
   "execution_count": 9,
   "id": "52c8fd22",
   "metadata": {},
   "outputs": [],
   "source": [
    "def paint_calc(height=test_h, width=test_w, cover=coverage):\n",
    "    \n",
    "    number_of_cans = round(((height*width)/cover))\n",
    "    \n",
    "    return (print(f\"You will need {number_of_cans} cans\"))"
   ]
  },
  {
   "cell_type": "code",
   "execution_count": 10,
   "id": "3453cf8e",
   "metadata": {},
   "outputs": [
    {
     "name": "stdout",
     "output_type": "stream",
     "text": [
      "2\n",
      "4\n",
      "You will need 2 cans\n"
     ]
    }
   ],
   "source": [
    "# Write your code below this line 👇\n",
    "\n",
    "\n",
    "\n",
    "\n",
    "# Write your code above this line 👆\n",
    "# Define a function called paint_calc() so the code below works.   \n",
    "\n",
    "# 🚨 Don't change the code below 👇\n",
    "test_h = int(input()) # Height of wall (m)\n",
    "test_w = int(input()) # Width of wall (m)\n",
    "coverage = 5\n",
    "paint_calc(height=test_h, width=test_w, cover=coverage)"
   ]
  },
  {
   "cell_type": "code",
   "execution_count": 3,
   "id": "a1146f82",
   "metadata": {},
   "outputs": [],
   "source": [
    "# Testing\n",
    "\n",
    "height=2\n",
    "width=4\n",
    "cover=5\n",
    "\n",
    "number_of_cans = round(((height*width)/cover))"
   ]
  },
  {
   "cell_type": "code",
   "execution_count": 11,
   "id": "ac9158d0",
   "metadata": {},
   "outputs": [
    {
     "data": {
      "text/plain": [
       "2"
      ]
     },
     "execution_count": 11,
     "metadata": {},
     "output_type": "execute_result"
    }
   ],
   "source": [
    "number_of_cans"
   ]
  },
  {
   "cell_type": "code",
   "execution_count": null,
   "id": "f5198af4",
   "metadata": {},
   "outputs": [],
   "source": []
  }
 ],
 "metadata": {
  "kernelspec": {
   "display_name": "Python 3 (ipykernel)",
   "language": "python",
   "name": "python3"
  },
  "language_info": {
   "codemirror_mode": {
    "name": "ipython",
    "version": 3
   },
   "file_extension": ".py",
   "mimetype": "text/x-python",
   "name": "python",
   "nbconvert_exporter": "python",
   "pygments_lexer": "ipython3",
   "version": "3.9.13"
  }
 },
 "nbformat": 4,
 "nbformat_minor": 5
}
