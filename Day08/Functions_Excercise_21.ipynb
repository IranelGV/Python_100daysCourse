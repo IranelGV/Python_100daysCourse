{
 "cells": [
  {
   "cell_type": "markdown",
   "id": "b4ce2838",
   "metadata": {},
   "source": [
    "Instructions\n",
    "Prime numbers are numbers that can only be cleanly divided by themselves and 1.\n",
    "\n",
    "https://en.wikipedia.org/wiki/Prime_number\n",
    "\n",
    "You need to write a function that checks whether if the number passed into it is a prime number or not.\n",
    "\n",
    "e.g. 2 is a prime number because it's only divisible by 1 and 2.\n",
    "\n",
    "But 4 is not a prime number because you can divide it by 1, 2 or 4."
   ]
  },
  {
   "cell_type": "code",
   "execution_count": 9,
   "id": "5db3ea15",
   "metadata": {},
   "outputs": [
    {
     "name": "stdout",
     "output_type": "stream",
     "text": [
      "47\n",
      "it is a prime number\n"
     ]
    }
   ],
   "source": [
    "# Write your code below this line 👇\n",
    "\n",
    "def prime_checker(number=n):\n",
    "    \n",
    "    prime_number = True\n",
    "    \n",
    "    for i in range(2,number):\n",
    "        \n",
    "        if number % i == 0:\n",
    "            \n",
    "            prime_number = False \n",
    "    \n",
    "    if prime_number:\n",
    "        \n",
    "        print(\"it is a prime number\")\n",
    "    \n",
    "    else:\n",
    "        print(\"it is no a prime number\")\n",
    "    \n",
    "    \n",
    "\n",
    "\n",
    "\n",
    "# Write your code above this line 👆\n",
    "    \n",
    "#Do NOT change any of the code below👇\n",
    "n = int(input()) # Check this number\n",
    "prime_checker(number=n)"
   ]
  },
  {
   "cell_type": "code",
   "execution_count": 3,
   "id": "bbec59a6",
   "metadata": {},
   "outputs": [
    {
     "name": "stdout",
     "output_type": "stream",
     "text": [
      "n is prime number\n"
     ]
    }
   ],
   "source": [
    "n= 4\n",
    "\n",
    "if n//n ==1 and n// 1== n:\n",
    "    print(\"n is prime number\")\n",
    "    \n",
    "else:\n",
    "    print(\"n is not a prime number\")"
   ]
  },
  {
   "cell_type": "code",
   "execution_count": 4,
   "id": "f9e4e73a",
   "metadata": {},
   "outputs": [
    {
     "data": {
      "text/plain": [
       "1"
      ]
     },
     "execution_count": 4,
     "metadata": {},
     "output_type": "execute_result"
    }
   ],
   "source": [
    "13//13"
   ]
  },
  {
   "cell_type": "code",
   "execution_count": 5,
   "id": "97fdc275",
   "metadata": {},
   "outputs": [
    {
     "data": {
      "text/plain": [
       "13"
      ]
     },
     "execution_count": 5,
     "metadata": {},
     "output_type": "execute_result"
    }
   ],
   "source": [
    "13//1"
   ]
  },
  {
   "cell_type": "code",
   "execution_count": 10,
   "id": "fb9a49e0",
   "metadata": {},
   "outputs": [
    {
     "name": "stdout",
     "output_type": "stream",
     "text": [
      "range(2, 8)\n"
     ]
    }
   ],
   "source": [
    "print(range(2,8))"
   ]
  },
  {
   "cell_type": "code",
   "execution_count": 11,
   "id": "6c0d0b42",
   "metadata": {},
   "outputs": [
    {
     "data": {
      "text/plain": [
       "range(2, 8)"
      ]
     },
     "execution_count": 11,
     "metadata": {},
     "output_type": "execute_result"
    }
   ],
   "source": [
    "range(2,8)"
   ]
  },
  {
   "cell_type": "code",
   "execution_count": 12,
   "id": "38bba090",
   "metadata": {},
   "outputs": [
    {
     "name": "stdout",
     "output_type": "stream",
     "text": [
      "2\n",
      "3\n",
      "4\n",
      "5\n",
      "6\n",
      "7\n"
     ]
    }
   ],
   "source": [
    "for i in range(2,8):\n",
    "    print(i)"
   ]
  },
  {
   "cell_type": "code",
   "execution_count": null,
   "id": "ce6224b8",
   "metadata": {},
   "outputs": [],
   "source": []
  }
 ],
 "metadata": {
  "kernelspec": {
   "display_name": "Python 3 (ipykernel)",
   "language": "python",
   "name": "python3"
  },
  "language_info": {
   "codemirror_mode": {
    "name": "ipython",
    "version": 3
   },
   "file_extension": ".py",
   "mimetype": "text/x-python",
   "name": "python",
   "nbconvert_exporter": "python",
   "pygments_lexer": "ipython3",
   "version": "3.9.13"
  }
 },
 "nbformat": 4,
 "nbformat_minor": 5
}
