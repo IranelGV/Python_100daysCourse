{
 "cells": [
  {
   "cell_type": "markdown",
   "id": "0b9d8c13",
   "metadata": {},
   "source": [
    "## Password Generator"
   ]
  },
  {
   "cell_type": "code",
   "execution_count": 2,
   "id": "7b1474c2",
   "metadata": {},
   "outputs": [],
   "source": [
    "import random"
   ]
  },
  {
   "cell_type": "code",
   "execution_count": 51,
   "id": "45980c58",
   "metadata": {},
   "outputs": [
    {
     "name": "stdout",
     "output_type": "stream",
     "text": [
      "Welcome to the Password Generator\n",
      "How many letters would you like in your password:6\n",
      "How many symbols would you like?8\n",
      "How many numbers would you like?9\n",
      "this is your password: &21})03}$32C{)U21l&CC1{\n"
     ]
    }
   ],
   "source": [
    "print(\"Welcome to the Password Generator\")\n",
    "\n",
    "n_letters = int(input(\"How many letters would you like in your password:\"))\n",
    "\n",
    "n_symbols = int(input(\"How many symbols would you like?\"))\n",
    "\n",
    "n_numbers = int(input(\"How many numbers would you like?\"))\n",
    "\n",
    "letters = [\"A\", \"B\", \"C\", \"D\", \"E\", \"F\", \"G\", \"H\", \"I\", \"J\", \"K\",\"L\", \"M\", \"N\", \"O\", \"P\", \"Q\", \"R\", \"S\", \"T\", \"U\", \"V\", \"W\", \"X\", \"Y\", \"Z\", 'a', 'b', 'c', 'd', 'e', 'f', 'g', 'h', 'i', 'j', 'k', 'l', 'm', 'n', 'o', 'p', 'q', 'r', 's', 't', 'u', 'v', 'w', 'x', 'y', 'z']\n",
    "symbol = [\"!\", \"§\", \"$\", \"%\", \"&\", \"/\",\"(\", \")\", \"[\", \"]\", \"=\", \"{\", \"}\", \">\", \"<\"]\n",
    "numbers = [\"0\", \"1\", \"2\", \"3\", \"4\", \"5\", \"6\", \"7\", \"8\", \"9\"]\n",
    "\n",
    "##############################################################################\n",
    "password = []\n",
    "\n",
    "for i in range(n_letters):\n",
    "    \n",
    "    random_letters = random.choice(letters)\n",
    "    \n",
    "    password.append(random_letters)\n",
    "    \n",
    "for s in range(n_symbols):\n",
    "    \n",
    "    random_symbol = random.choice(symbol)\n",
    "    \n",
    "    password.append(random_symbol)\n",
    "    \n",
    "for n in range(n_numbers):\n",
    "    \n",
    "    random_number = random.choice(numbers)\n",
    "    \n",
    "    password.append(random_number)\n",
    "    \n",
    "#############################################################\n",
    "number_of_characters = len(password)\n",
    "\n",
    "password_mixed = []\n",
    "\n",
    "for c in range(number_of_characters):\n",
    "    \n",
    "    random_mix = random.choice(password)\n",
    "    \n",
    "    password_mixed.append(random_mix)\n",
    "    \n",
    "#################################################\n",
    "\n",
    "#Join everything\n",
    "\n",
    "join_password = \"\".join(password_mixed)\n",
    "\n",
    "#print(password)\n",
    "\n",
    "#print(password_mixed)\n",
    "    \n",
    "print(\"this is your password:\", join_password)\n"
   ]
  },
  {
   "cell_type": "code",
   "execution_count": 24,
   "id": "872585ff",
   "metadata": {},
   "outputs": [],
   "source": [
    "letters = [\"A\", \"B\", \"C\", \"D\", \"E\", \"F\", \"G\", \"H\", \"I\", \"J\", \"K\",\"L\", \"M\", \"N\", \"O\", \"P\", \"Q\", \"R\", \"S\", \"T\", \"U\", \"V\", \"W\", \"X\", \"Y\", \"Z\"]\n",
    "password = []\n",
    "    \n",
    "random_letters = random.choice(letters)\n",
    "    \n",
    "passowrd_generator = password.append(random_letters)"
   ]
  },
  {
   "cell_type": "code",
   "execution_count": 26,
   "id": "b2efc7c5",
   "metadata": {},
   "outputs": [
    {
     "data": {
      "text/plain": [
       "'R'"
      ]
     },
     "execution_count": 26,
     "metadata": {},
     "output_type": "execute_result"
    }
   ],
   "source": [
    "random_letters"
   ]
  },
  {
   "cell_type": "code",
   "execution_count": 25,
   "id": "f4fe29ba",
   "metadata": {},
   "outputs": [
    {
     "name": "stdout",
     "output_type": "stream",
     "text": [
      "None\n"
     ]
    }
   ],
   "source": [
    "print(passowrd_generator)"
   ]
  },
  {
   "cell_type": "code",
   "execution_count": 27,
   "id": "77bd2a16",
   "metadata": {},
   "outputs": [
    {
     "data": {
      "text/plain": [
       "['R']"
      ]
     },
     "execution_count": 27,
     "metadata": {},
     "output_type": "execute_result"
    }
   ],
   "source": [
    "password "
   ]
  },
  {
   "cell_type": "code",
   "execution_count": 41,
   "id": "a7709c2c",
   "metadata": {},
   "outputs": [
    {
     "name": "stdout",
     "output_type": "stream",
     "text": [
      "['a', 'b', 'c', 'd', 'e', 'f', 'g', 'h', 'i', 'j', 'k', 'l', 'm', 'n', 'o', 'p', 'q', 'r', 's', 't', 'u', 'v', 'w', 'x', 'y', 'z']\n"
     ]
    }
   ],
   "source": [
    "letters = [\"A\", \"B\", \"C\", \"D\", \"E\", \"F\", \"G\", \"H\", \"I\", \"J\", \"K\",\"L\", \"M\", \"N\", \"O\", \"P\", \"Q\", \"R\", \"S\", \"T\", \"U\", \"V\", \"W\", \"X\", \"Y\", \"Z\"]\n",
    "\n",
    "lower_letters = []\n",
    "\n",
    "for i in letters:\n",
    "    \n",
    "     lower_letters.append(i.lower())\n",
    "        \n",
    "print(lower_letters)\n",
    "    \n",
    "    "
   ]
  },
  {
   "cell_type": "code",
   "execution_count": 50,
   "id": "6908f319",
   "metadata": {},
   "outputs": [],
   "source": [
    "#symbols = [\"!@#$%^&*():<>/|}{[]`\\`\"]"
   ]
  },
  {
   "cell_type": "code",
   "execution_count": null,
   "id": "74a26bf5",
   "metadata": {},
   "outputs": [],
   "source": []
  }
 ],
 "metadata": {
  "kernelspec": {
   "display_name": "Python 3 (ipykernel)",
   "language": "python",
   "name": "python3"
  },
  "language_info": {
   "codemirror_mode": {
    "name": "ipython",
    "version": 3
   },
   "file_extension": ".py",
   "mimetype": "text/x-python",
   "name": "python",
   "nbconvert_exporter": "python",
   "pygments_lexer": "ipython3",
   "version": "3.9.13"
  }
 },
 "nbformat": 4,
 "nbformat_minor": 5
}
