{
 "cells": [
  {
   "cell_type": "code",
   "execution_count": 1,
   "id": "7e9f6029",
   "metadata": {},
   "outputs": [],
   "source": [
    "import random"
   ]
  },
  {
   "cell_type": "code",
   "execution_count": 2,
   "id": "f5b15301",
   "metadata": {},
   "outputs": [],
   "source": [
    "#Step 1 \n",
    "\n",
    "word_list = [\"aardvark\", \"baboon\", \"camel\"]\n",
    "\n",
    "#TODO-1 - Randomly choose a word from the word_list and assign it to a variable called chosen_word.\n",
    "\n",
    "#TODO-2 - Ask the user to guess a letter and assign their answer to a variable called guess. Make guess lowercase.\n",
    "\n",
    "#TODO-3 - Check if the letter the user guessed (guess) is one of the letters in the chosen_word.\n",
    "\n",
    "#type(string_word)"
   ]
  },
  {
   "cell_type": "code",
   "execution_count": 5,
   "id": "e2bde505",
   "metadata": {},
   "outputs": [
    {
     "name": "stdout",
     "output_type": "stream",
     "text": [
      "Please guess a letter:a\n",
      "Wrong\n",
      "correct\n",
      "['baboon']\n",
      "Wrong\n",
      "Wrong\n",
      "Wrong\n",
      "Wrong\n",
      "Please guess a letter:b\n",
      "correct\n",
      "['baboon']\n",
      "Wrong\n",
      "correct\n",
      "['baboon']\n",
      "Wrong\n",
      "Wrong\n",
      "Wrong\n",
      "Please guess a letter:o\n",
      "Wrong\n",
      "Wrong\n",
      "Wrong\n",
      "correct\n",
      "['baboon']\n",
      "correct\n",
      "['baboon']\n",
      "Wrong\n",
      "Please guess a letter:n\n",
      "Wrong\n",
      "Wrong\n",
      "Wrong\n",
      "Wrong\n",
      "Wrong\n",
      "correct\n",
      "['baboon']\n",
      "Please guess a letter:o\n",
      "Wrong\n",
      "Wrong\n",
      "Wrong\n",
      "correct\n",
      "['baboon']\n",
      "correct\n",
      "['baboon']\n",
      "Wrong\n",
      "Please guess a letter:b\n",
      "correct\n",
      "['baboon']\n",
      "Wrong\n",
      "correct\n",
      "['baboon']\n",
      "Wrong\n",
      "Wrong\n",
      "Wrong\n"
     ]
    }
   ],
   "source": [
    "word_list = [\"aardvark\", \"baboon\", \"camel\"]\n",
    "\n",
    "life_count= 7\n",
    "\n",
    "# chosing a random word to guess:\n",
    "chosen_word = random.choice(word_list)\n",
    "\n",
    "# spliting out the chosen word:\n",
    "splited_word= list(chosen_word)\n",
    "\n",
    "# Empty list for the guessed letters\n",
    "guessed_letters = []\n",
    "\n",
    "wrong_gressed = []\n",
    "\n",
    "for i in range(1, life_count):\n",
    "    \n",
    "    wrong_gressed.append(\"Wrong\")\n",
    "    \n",
    "    letter_to_guess = (input(\"Please guess a letter:\")).lower()\n",
    "    \n",
    "    for i in splited_word:\n",
    "        \n",
    "        if  i == letter_to_guess:\n",
    "            \n",
    "            guessed_letters.append(i)\n",
    "        \n",
    "            print(\"correct\")\n",
    "            \n",
    "            \n",
    "           \n",
    "            \n",
    "            #splited_word.remove(i)\n",
    "            \n",
    "        else:\n",
    "            \n",
    "            print(\"Wrong\")\n",
    "    \n",
    "    "
   ]
  },
  {
   "cell_type": "code",
   "execution_count": null,
   "id": "dc196658",
   "metadata": {},
   "outputs": [],
   "source": [
    "test = [\"a\", \"a\", \"b\", \"c\"]\n",
    "\n",
    "test.remove(\"a\")"
   ]
  },
  {
   "cell_type": "code",
   "execution_count": null,
   "id": "b102b31d",
   "metadata": {},
   "outputs": [],
   "source": [
    "for i in test:\n",
    "    if i == \"a\":\n",
    "        test.remove(i)"
   ]
  },
  {
   "cell_type": "code",
   "execution_count": null,
   "id": "936a9b23",
   "metadata": {},
   "outputs": [],
   "source": [
    "test"
   ]
  },
  {
   "cell_type": "code",
   "execution_count": 10,
   "id": "73130d59",
   "metadata": {},
   "outputs": [],
   "source": [
    "word_list = [\"aardvark\", \"baboon\", \"camel\"]\n",
    "\n",
    "life_count= 7\n",
    "\n",
    "# chosing a random word to guess:\n",
    "word_to_guess = random.choice(word_list)\n",
    "\n",
    "# spliting out the word:\n",
    "splited_word= list(word_to_guess)"
   ]
  },
  {
   "cell_type": "code",
   "execution_count": 11,
   "id": "e341db85",
   "metadata": {},
   "outputs": [
    {
     "data": {
      "text/plain": [
       "'camel'"
      ]
     },
     "execution_count": 11,
     "metadata": {},
     "output_type": "execute_result"
    }
   ],
   "source": [
    "word_to_guess"
   ]
  },
  {
   "cell_type": "code",
   "execution_count": 12,
   "id": "10867bd4",
   "metadata": {},
   "outputs": [
    {
     "data": {
      "text/plain": [
       "['c', 'a', 'm', 'e', 'l']"
      ]
     },
     "execution_count": 12,
     "metadata": {},
     "output_type": "execute_result"
    }
   ],
   "source": [
    "splited_word"
   ]
  },
  {
   "cell_type": "markdown",
   "id": "07018d5a",
   "metadata": {},
   "source": [
    "## ------------------------------------------"
   ]
  },
  {
   "cell_type": "code",
   "execution_count": 28,
   "id": "c9942370",
   "metadata": {},
   "outputs": [
    {
     "name": "stdout",
     "output_type": "stream",
     "text": [
      "Please guess a letter:a\n",
      "aardvark\n",
      "Right\n",
      "Right\n",
      "Wrong\n",
      "Wrong\n",
      "Wrong\n",
      "Right\n",
      "Wrong\n",
      "Wrong\n"
     ]
    }
   ],
   "source": [
    "word_list = [\"aardvark\", \"baboon\", \"camel\"]\n",
    "\n",
    "# chosing a random word to guess:\n",
    "chosen_word = random.choice(word_list)\n",
    "\n",
    "guess = input(\"Please guess a letter:\").lower()\n",
    "\n",
    "print(chosen_word)\n",
    "    \n",
    "for letter in chosen_word:\n",
    "        \n",
    "    if  letter == guess:\n",
    "        print(\"Right\")\n",
    "            \n",
    "    else:   \n",
    "        print(\"Wrong\")"
   ]
  },
  {
   "cell_type": "markdown",
   "id": "99b0d038",
   "metadata": {},
   "source": [
    "## -----------------------------------------------------------------------"
   ]
  },
  {
   "cell_type": "markdown",
   "id": "ca73c11e",
   "metadata": {},
   "source": [
    "### Final Version"
   ]
  },
  {
   "cell_type": "code",
   "execution_count": 38,
   "id": "510a56ef",
   "metadata": {},
   "outputs": [
    {
     "name": "stdout",
     "output_type": "stream",
     "text": [
      "['_', '_', '_', '_', '_', '_', '_', '_', '_', '_', '_', '_', '_', '_', '_', '_']\n",
      "Please guess a letter:a\n",
      "['a', 'a', '_', '_', '_', 'a', '_', '_', '_', '_', '_', '_', '_', '_', '_', '_']\n"
     ]
    }
   ],
   "source": [
    "word_list = [\"aardvark\", \"baboon\", \"camel\"]\n",
    "\n",
    "# chosing a random word to guess:\n",
    "chosen_word = random.choice(word_list)\n",
    "\n",
    "display = []\n",
    "\n",
    "for letter in range(len(chosen_word)):\n",
    "    \n",
    "    display += \"__\"\n",
    "\n",
    "print(display)\n",
    "    \n",
    "###############################################################\n",
    "\n",
    "guess = input(\"Please guess a letter:\").lower()\n",
    "    \n",
    "    \n",
    "    \n",
    "for position in range(len(chosen_word)):\n",
    "    \n",
    "    letter = chosen_word[position]\n",
    "        \n",
    "    if  letter == guess:\n",
    "        \n",
    "        display[position] = letter\n",
    "\n",
    "print(display)\n",
    "            \n",
    "   "
   ]
  },
  {
   "cell_type": "markdown",
   "id": "34a2c0e1",
   "metadata": {},
   "source": [
    "## ----------------------------------------------------"
   ]
  },
  {
   "cell_type": "code",
   "execution_count": 32,
   "id": "75a0b6a9",
   "metadata": {},
   "outputs": [
    {
     "name": "stdout",
     "output_type": "stream",
     "text": [
      "camel\n",
      "5\n",
      "range(0, 5)\n",
      "range(0, 6)\n"
     ]
    }
   ],
   "source": [
    "# Understanding Range vs Len\n",
    "\n",
    "word_list = [\"aardvark\", \"baboon\", \"camel\"]\n",
    "\n",
    "# chosing a random word to guess:\n",
    "chosen_word = random.choice(word_list)\n",
    "\n",
    "print(chosen_word )\n",
    "\n",
    "print(len(chosen_word))\n",
    "\n",
    "\n",
    "print(range(len(chosen_word)))\n",
    "\n",
    "print(range(6))\n"
   ]
  },
  {
   "cell_type": "code",
   "execution_count": 43,
   "id": "85b669f5",
   "metadata": {},
   "outputs": [
    {
     "name": "stdout",
     "output_type": "stream",
     "text": [
      "['_', '_', '_', '_', '_', '_', '_', '_', '_', '_', '_', '_', '_', '_', '_', '_']\n",
      "aardvark\n"
     ]
    }
   ],
   "source": [
    "# Understanding Display\n",
    "\n",
    "word_list = [\"aardvark\", \"baboon\", \"camel\"]\n",
    "\n",
    "# chosing a random word to guess:\n",
    "chosen_word = random.choice(word_list)\n",
    "\n",
    "#guess = input(\"Please guess a letter:\").lower()\n",
    "\n",
    "display = []\n",
    "\n",
    "for letter in range(len(chosen_word)):\n",
    "    \n",
    "    display += \"__\"\n",
    "\n",
    "print(display) \n",
    "\n",
    "print(chosen_word)"
   ]
  },
  {
   "cell_type": "code",
   "execution_count": 40,
   "id": "ebecdbdc",
   "metadata": {},
   "outputs": [
    {
     "name": "stdout",
     "output_type": "stream",
     "text": [
      "['_', 'Iranel', '_']\n"
     ]
    }
   ],
   "source": [
    "###################\n",
    "\n",
    "# Changing values in a list using  idexing! (similar to a dataframe with the columns)\n",
    "\n",
    "test = [\"_\", \"_\", \"_\"]\n",
    "\n",
    "test[1]= \"Iranel\"\n",
    "\n",
    "print(test)"
   ]
  },
  {
   "cell_type": "code",
   "execution_count": null,
   "id": "e29fb842",
   "metadata": {},
   "outputs": [],
   "source": []
  }
 ],
 "metadata": {
  "kernelspec": {
   "display_name": "Python 3 (ipykernel)",
   "language": "python",
   "name": "python3"
  },
  "language_info": {
   "codemirror_mode": {
    "name": "ipython",
    "version": 3
   },
   "file_extension": ".py",
   "mimetype": "text/x-python",
   "name": "python",
   "nbconvert_exporter": "python",
   "pygments_lexer": "ipython3",
   "version": "3.9.13"
  }
 },
 "nbformat": 4,
 "nbformat_minor": 5
}
