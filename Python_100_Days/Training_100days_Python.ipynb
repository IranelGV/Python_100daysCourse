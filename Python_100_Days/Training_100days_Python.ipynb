{
 "cells": [
  {
   "cell_type": "code",
   "execution_count": 1,
   "id": "a4b5137f",
   "metadata": {},
   "outputs": [
    {
     "name": "stdout",
     "output_type": "stream",
     "text": [
      "6.0\n"
     ]
    }
   ],
   "source": [
    "print(6+4/ 2- (1*2))"
   ]
  },
  {
   "cell_type": "code",
   "execution_count": 2,
   "id": "1309a70e",
   "metadata": {},
   "outputs": [
    {
     "data": {
      "text/plain": [
       "2"
      ]
     },
     "execution_count": 2,
     "metadata": {},
     "output_type": "execute_result"
    }
   ],
   "source": [
    "1*2"
   ]
  },
  {
   "cell_type": "code",
   "execution_count": 3,
   "id": "aa7ec481",
   "metadata": {},
   "outputs": [],
   "source": [
    "a = int(\"5\")/ int(2.7)"
   ]
  },
  {
   "cell_type": "code",
   "execution_count": 4,
   "id": "62876884",
   "metadata": {},
   "outputs": [
    {
     "data": {
      "text/plain": [
       "2.5"
      ]
     },
     "execution_count": 4,
     "metadata": {},
     "output_type": "execute_result"
    }
   ],
   "source": [
    "a"
   ]
  },
  {
   "cell_type": "code",
   "execution_count": 5,
   "id": "911ea051",
   "metadata": {},
   "outputs": [
    {
     "data": {
      "text/plain": [
       "float"
      ]
     },
     "execution_count": 5,
     "metadata": {},
     "output_type": "execute_result"
    }
   ],
   "source": [
    "type(a)"
   ]
  },
  {
   "cell_type": "code",
   "execution_count": 6,
   "id": "b220c25b",
   "metadata": {},
   "outputs": [],
   "source": [
    "b=int(2.7)"
   ]
  },
  {
   "cell_type": "code",
   "execution_count": 7,
   "id": "37a8f60d",
   "metadata": {},
   "outputs": [
    {
     "data": {
      "text/plain": [
       "2"
      ]
     },
     "execution_count": 7,
     "metadata": {},
     "output_type": "execute_result"
    }
   ],
   "source": [
    "b"
   ]
  },
  {
   "cell_type": "code",
   "execution_count": 15,
   "id": "b0d330c9",
   "metadata": {},
   "outputs": [
    {
     "name": "stdout",
     "output_type": "stream",
     "text": [
      "What is your name?Iranel\n",
      "Hello,Iranel\n"
     ]
    }
   ],
   "source": [
    "name = input(\"What is your name?\")\n",
    "print(\"Hello,\" + name)"
   ]
  },
  {
   "cell_type": "code",
   "execution_count": 14,
   "id": "131de7c0",
   "metadata": {},
   "outputs": [
    {
     "name": "stdout",
     "output_type": "stream",
     "text": [
      "your age is  12  years old\n"
     ]
    }
   ],
   "source": [
    "age=12\n",
    "print(\"your age is\" + \"  \" + str(age) + \"  \" + \"years old\")"
   ]
  },
  {
   "cell_type": "code",
   "execution_count": 45,
   "id": "3257eddb",
   "metadata": {},
   "outputs": [],
   "source": [
    "#Tip Calculator"
   ]
  },
  {
   "cell_type": "code",
   "execution_count": 44,
   "id": "8a1be550",
   "metadata": {},
   "outputs": [
    {
     "name": "stdout",
     "output_type": "stream",
     "text": [
      "Welcome to the tip calculator.\n",
      "What was the total bill?150\n",
      "150\n",
      "What percentage tip would you like to give? 10, 12, or 15?12\n",
      "12\n",
      "How many people to split the bill?5\n",
      "5\n",
      "Each person should pay:33.6\n"
     ]
    }
   ],
   "source": [
    "print(\"Welcome to the tip calculator.\")\n",
    "\n",
    "total_bill = int(input(\"What was the total bill?\"))\n",
    "print(total_bill)\n",
    "\n",
    "percentage = int(input(\"What percentage tip would you like to give? 10, 12, or 15?\"))\n",
    "print(percentage)\n",
    "\n",
    "people = int(input(\"How many people to split the bill?\"))\n",
    "print(people)\n",
    "\n",
    "calculation = round((total_bill/ people) * ((percentage+100)/100),2)\n",
    "\n",
    "print(\"Each person should pay:\" + str(calculation))"
   ]
  },
  {
   "cell_type": "code",
   "execution_count": 23,
   "id": "902ae3fb",
   "metadata": {},
   "outputs": [],
   "source": [
    "calculation = 124.56/ 7 * 12/100 +100"
   ]
  },
  {
   "cell_type": "code",
   "execution_count": 24,
   "id": "14509917",
   "metadata": {},
   "outputs": [
    {
     "data": {
      "text/plain": [
       "102.13531428571429"
      ]
     },
     "execution_count": 24,
     "metadata": {},
     "output_type": "execute_result"
    }
   ],
   "source": [
    "calculation"
   ]
  },
  {
   "cell_type": "code",
   "execution_count": 37,
   "id": "a50f7845",
   "metadata": {},
   "outputs": [],
   "source": [
    "calculation01 = round(150/ 5 * (12+100)/100,3)"
   ]
  },
  {
   "cell_type": "code",
   "execution_count": 36,
   "id": "f5f343a3",
   "metadata": {},
   "outputs": [
    {
     "data": {
      "text/plain": [
       "33.6"
      ]
     },
     "execution_count": 36,
     "metadata": {},
     "output_type": "execute_result"
    }
   ],
   "source": [
    "calculation01 "
   ]
  },
  {
   "cell_type": "code",
   "execution_count": 28,
   "id": "a36f8011",
   "metadata": {},
   "outputs": [
    {
     "data": {
      "text/plain": [
       "100.12"
      ]
     },
     "execution_count": 28,
     "metadata": {},
     "output_type": "execute_result"
    }
   ],
   "source": [
    "12/100 +100"
   ]
  },
  {
   "cell_type": "code",
   "execution_count": 29,
   "id": "1a34a065",
   "metadata": {},
   "outputs": [
    {
     "data": {
      "text/plain": [
       "100.12"
      ]
     },
     "execution_count": 29,
     "metadata": {},
     "output_type": "execute_result"
    }
   ],
   "source": [
    "100+12/100"
   ]
  },
  {
   "cell_type": "code",
   "execution_count": 30,
   "id": "427bf5eb",
   "metadata": {},
   "outputs": [
    {
     "data": {
      "text/plain": [
       "112"
      ]
     },
     "execution_count": 30,
     "metadata": {},
     "output_type": "execute_result"
    }
   ],
   "source": [
    "100 +12"
   ]
  },
  {
   "cell_type": "code",
   "execution_count": 31,
   "id": "1e988cb0",
   "metadata": {},
   "outputs": [
    {
     "data": {
      "text/plain": [
       "1.12"
      ]
     },
     "execution_count": 31,
     "metadata": {},
     "output_type": "execute_result"
    }
   ],
   "source": [
    "112/100"
   ]
  },
  {
   "cell_type": "code",
   "execution_count": 32,
   "id": "6b244767",
   "metadata": {},
   "outputs": [
    {
     "data": {
      "text/plain": [
       "1.12"
      ]
     },
     "execution_count": 32,
     "metadata": {},
     "output_type": "execute_result"
    }
   ],
   "source": [
    "(100+12)/100"
   ]
  },
  {
   "cell_type": "code",
   "execution_count": 41,
   "id": "50251da3",
   "metadata": {},
   "outputs": [
    {
     "name": "stdout",
     "output_type": "stream",
     "text": [
      "What was the total bill?150\n",
      "150\n",
      "<class 'str'>\n"
     ]
    }
   ],
   "source": [
    "total_bill = input(\"What was the total bill?\")\n",
    "print(total_bill)\n",
    "print(type(total_bill))"
   ]
  },
  {
   "cell_type": "code",
   "execution_count": 49,
   "id": "dded67a8",
   "metadata": {},
   "outputs": [
    {
     "name": "stdout",
     "output_type": "stream",
     "text": [
      "7\n",
      "the number 7 is even\n"
     ]
    }
   ],
   "source": [
    "# Which number do you want to check?\n",
    "number = int(input())\n",
    "# 🚨 Don't change the code above 👆\n",
    "\n",
    "# Write your code below this line 👇\n",
    "\n",
    "if    number %2 == 0 :\n",
    "  \n",
    "      print(f\"the number {number} is even\")\n",
    "\n",
    "elif  number %2 != 0:\n",
    "      print((f\"the number {number} is even\"))\n"
   ]
  },
  {
   "cell_type": "markdown",
   "id": "d2939c18",
   "metadata": {},
   "source": [
    "## BMI Calculator"
   ]
  },
  {
   "cell_type": "code",
   "execution_count": 50,
   "id": "ecd219b9",
   "metadata": {},
   "outputs": [
    {
     "name": "stdout",
     "output_type": "stream",
     "text": [
      "1.77\n",
      "67\n",
      "Your BMI is 21.39, you are a normal weight\n"
     ]
    }
   ],
   "source": [
    "# Enter your height in meters e.g., 1.55\n",
    "height = float(input())\n",
    "# Enter your weight in kilograms e.g., 72\n",
    "weight = int(input())\n",
    "# 🚨 Don't change the code above 👆\n",
    "\n",
    "#Write your code below this line 👇\n",
    "\n",
    "BMI = round((weight) / (height**2),2)\n",
    "\n",
    "if BMI < 18.5:\n",
    "   print(f\"Your BMI is {BMI}, you are underweight\")\n",
    "  \n",
    "elif BMI > 18.5 and BMI < 25:\n",
    "  print(f\"Your BMI is {BMI}, you are a normal weight\")\n",
    "\n",
    "elif BMI > 25 and BMI < 30:\n",
    "  print(f\"Your BMI is {BMI}, you are slightly overweight\")\n",
    "\n",
    "elif BMI > 30 and BMI < 35:\n",
    "  print(f\"Your BMI is {BMI}, you are slightly obese\")\n",
    "\n",
    "elif BMI > 35:\n",
    "  print(f\"Your BMI is {BMI}, you are slightly clinically obese\")\n",
    "  \n",
    "\n"
   ]
  },
  {
   "cell_type": "code",
   "execution_count": 51,
   "id": "812de7ad",
   "metadata": {},
   "outputs": [
    {
     "name": "stdout",
     "output_type": "stream",
     "text": [
      "1.75\n",
      "80\n",
      "Your BMI is 26.12, you are slightly overweight\n"
     ]
    }
   ],
   "source": [
    "# Enter your height in meters e.g., 1.55\n",
    "height = float(input())\n",
    "# Enter your weight in kilograms e.g., 72\n",
    "weight = int(input())\n",
    "# 🚨 Don't change the code above 👆\n",
    "\n",
    "#Write your code below this line 👇\n",
    "\n",
    "BMI = round((weight) / (height**2),2)\n",
    "\n",
    "if BMI < 18.5:\n",
    "   print(f\"Your BMI is {BMI}, you are underweight\")\n",
    "  \n",
    "elif BMI > 18.5 and BMI < 25:\n",
    "  print(f\"Your BMI is {BMI}, you are a normal weight\")\n",
    "\n",
    "elif BMI > 25 and BMI < 30:\n",
    "  print(f\"Your BMI is {BMI}, you are slightly overweight\")\n",
    "\n",
    "elif BMI > 30 and BMI < 35:\n",
    "  print(f\"Your BMI is {BMI}, you are slightly obese\")\n",
    "\n",
    "elif BMI > 35:\n",
    "  print(f\"Your BMI is {BMI}, you are slightly clinically obese\")\n",
    "  \n",
    "\n"
   ]
  },
  {
   "cell_type": "code",
   "execution_count": 52,
   "id": "bbedebc9",
   "metadata": {},
   "outputs": [
    {
     "name": "stdout",
     "output_type": "stream",
     "text": [
      "1.55\n",
      "57\n",
      "Your BMI is 23.73, you are a normal weight\n"
     ]
    }
   ],
   "source": [
    "# Enter your height in meters e.g., 1.55\n",
    "height = float(input())\n",
    "# Enter your weight in kilograms e.g., 72\n",
    "weight = int(input())\n",
    "# 🚨 Don't change the code above 👆\n",
    "\n",
    "#Write your code below this line 👇\n",
    "\n",
    "BMI = round((weight) / (height**2),2)\n",
    "\n",
    "if BMI < 18.5:\n",
    "   print(f\"Your BMI is {BMI}, you are underweight\")\n",
    "  \n",
    "elif BMI < 25:\n",
    "  print(f\"Your BMI is {BMI}, you are a normal weight\")\n",
    "\n",
    "elif BMI < 30:\n",
    "  print(f\"Your BMI is {BMI}, you are slightly overweight\")\n",
    "\n",
    "elif BMI < 35:\n",
    "  print(f\"Your BMI is {BMI}, you are slightly obese\")\n",
    "\n",
    "else:\n",
    "  print(f\"Your BMI is {BMI}, you are slightly clinically obese\")"
   ]
  },
  {
   "cell_type": "markdown",
   "id": "c86845fd",
   "metadata": {},
   "source": [
    "### Day 03"
   ]
  },
  {
   "cell_type": "code",
   "execution_count": 4,
   "id": "372034d2",
   "metadata": {},
   "outputs": [
    {
     "name": "stdout",
     "output_type": "stream",
     "text": [
      "8\n",
      " your number 8 is even\n"
     ]
    }
   ],
   "source": [
    "# Which number do you want to check?\n",
    "\n",
    "# the modulo #\n",
    "\n",
    "# Which number do you want to check?\n",
    "number = int(input())\n",
    "\n",
    "# If the number can be divided by 2 with 0 remainder.\n",
    "if number % 2 == 0:\n",
    "    \n",
    "    print(f\" your number {number} is even\")\n",
    "          \n",
    "else:\n",
    "          \n",
    "    print(f\"your number {number} is odd\")\n",
    "          \n",
    "          "
   ]
  },
  {
   "cell_type": "markdown",
   "id": "66b68855",
   "metadata": {},
   "source": [
    "### Leap Year"
   ]
  },
  {
   "cell_type": "code",
   "execution_count": 10,
   "id": "6a0b5dd1",
   "metadata": {},
   "outputs": [
    {
     "name": "stdout",
     "output_type": "stream",
     "text": [
      "2000\n",
      "Leap year\n"
     ]
    }
   ],
   "source": [
    "year = int(input())\n",
    "\n",
    "#multiple if (multiple statement)\n",
    "\n",
    "# multiple conditions using Logical Operator\n",
    "\n",
    "if year % 4 == 0:\n",
    "    if year % 100 == 0:\n",
    "        if year % 400 == 0:\n",
    "            print(\"Leap year\")\n",
    "        else:  \n",
    "            print(\"Not Leap year\")\n",
    "    else:\n",
    "        print(\"Leap year\")\n",
    "else:\n",
    "    print(\"Not leap year\")\n",
    "        \n",
    "       "
   ]
  },
  {
   "cell_type": "markdown",
   "id": "8ce4832a",
   "metadata": {},
   "source": [
    "### Pizza Order Practice"
   ]
  },
  {
   "cell_type": "code",
   "execution_count": 24,
   "id": "0dbb5ecd",
   "metadata": {},
   "outputs": [
    {
     "name": "stdout",
     "output_type": "stream",
     "text": [
      "Thank you for choosing Python Pizza Deliveries!\n",
      "S\n",
      "N\n",
      "Y\n",
      "Your final bill is: $16.\n"
     ]
    }
   ],
   "source": [
    "print(\"Thank you for choosing Python Pizza Deliveries!\")\n",
    "size = input() # What size pizza do you want? S, M, or L\n",
    "add_pepperoni = input() # Do you want pepperoni? Y or N\n",
    "extra_cheese = input() # Do you want extra cheese? Y or N\n",
    "# 🚨 Don't change the code above 👆\n",
    "# Write your code below this line 👇\n",
    "\n",
    "bill = 0\n",
    "\n",
    "if size == \"S\":\n",
    "    \n",
    "    bill = 15\n",
    "    \n",
    "    if add_pepperoni == \"Y\" and extra_cheese == \"N\":\n",
    "        \n",
    "            bill = bill + 2\n",
    "            print(f\"Your final bill is: ${bill}.\")\n",
    "        \n",
    "    elif add_pepperoni == \"Y\" and extra_cheese == \"Y\":\n",
    "        \n",
    "            bill = bill + 3\n",
    "            print(f\"Your final bill is: ${bill}.\")\n",
    "    \n",
    "    elif add_pepperoni == \"N\" and extra_cheese == \"Y\":\n",
    "            bill = bill + 1\n",
    "            print(f\"Your final bill is: ${bill}.\")\n",
    "            \n",
    "    else:\n",
    "            print(f\"Your final bill is: ${bill}.\")\n",
    "\n",
    "elif size == \"M\":\n",
    "    \n",
    "    bill = 20\n",
    "    \n",
    "    if add_pepperoni == \"Y\" and extra_cheese == \"N\":\n",
    "            \n",
    "            bill = bill + 3\n",
    "            print(f\"Your final bill is: ${bill}.\")\n",
    "            \n",
    "    elif add_pepperoni == \"Y\" and extra_cheese == \"Y\":\n",
    "        \n",
    "            bill = bill + 4\n",
    "            print(f\"Your final bill is: ${bill}.\")\n",
    "            \n",
    "    elif add_pepperoni == \"N\" and extra_cheese == \"Y\":\n",
    "            bill = bill + 1\n",
    "            print(f\"Your final bill is: ${bill}.\")\n",
    "        \n",
    "    else:\n",
    "            print(f\"Your final bill is: ${bill}.\")\n",
    "      \n",
    "        \n",
    "    \n",
    "elif size == \"L\":\n",
    "    \n",
    "    bill = 25\n",
    "    \n",
    "    if add_pepperoni == \"Y\" and extra_cheese == \"N\":\n",
    "            \n",
    "            bill = bill + 3\n",
    "            print(f\"Your final bill is: ${bill}.\")\n",
    "            \n",
    "    elif add_pepperoni == \"Y\" and extra_cheese == \"Y\":\n",
    "        \n",
    "            bill = bill + 4\n",
    "            print(f\"Your final bill is: ${bill}.\")\n",
    "            \n",
    "    elif add_pepperoni == \"N\" and extra_cheese == \"Y\":\n",
    "            bill = bill + 1\n",
    "            print(f\"Your final bill is: ${bill}.\")\n",
    "        \n",
    "    else:\n",
    "            print(f\"Your final bill is: ${bill}.\")\n",
    "    \n",
    "    "
   ]
  },
  {
   "cell_type": "markdown",
   "id": "33a5571b",
   "metadata": {},
   "source": [
    "### The Love Calculator"
   ]
  },
  {
   "cell_type": "code",
   "execution_count": 45,
   "id": "affb6ffc",
   "metadata": {},
   "outputs": [
    {
     "name": "stdout",
     "output_type": "stream",
     "text": [
      "The Love Calculator is calculating your score...\n",
      "Pierre Curie\n",
      "Marie Curie\n",
      "Your score is 125, you go together like coke and mentos\n"
     ]
    }
   ],
   "source": [
    "print(\"The Love Calculator is calculating your score...\")\n",
    "name1 = input() # What is your name?\n",
    "name2 = input() # What is their name?\n",
    "# 🚨 Don't change the code above 👆\n",
    "# Write your code below this line 👇\n",
    "\n",
    "combined_names = name1 + name2\n",
    "\n",
    "lower_name = combined_names.lower()\n",
    "\n",
    "t = lower_name.count(\"t\")\n",
    "r = lower_name.count(\"r\")\n",
    "u = lower_name.count(\"u\")\n",
    "e = lower_name.count(\"e\")\n",
    "\n",
    "first_digit = t+r+u+e\n",
    "\n",
    "l= lower_name.count(\"l\")\n",
    "o= lower_name.count(\"o\")\n",
    "v= lower_name.count(\"v\")\n",
    "e= lower_name.count(\"e\")\n",
    "\n",
    "second_digit = l+o+v+e\n",
    "\n",
    "total_number = int(str(first_digit) + str(second_digit))\n",
    "\n",
    "\n",
    "if (total_number < 10) or (total_number > 90):\n",
    "    \n",
    "    print(f\"Your score is {total_number}, you go together like coke and mentos\")\n",
    "    \n",
    "elif  (total_number >= 40) and (total_number <=50):\n",
    "    \n",
    "    print(f\"Your score is {total_number}, you are alright together\")\n",
    "    \n",
    "else:\n",
    "    \n",
    "    print(f\"Your score is {total_number}\")\n",
    "\n"
   ]
  },
  {
   "cell_type": "code",
   "execution_count": 46,
   "id": "c15c471d",
   "metadata": {},
   "outputs": [],
   "source": [
    "import random   "
   ]
  },
  {
   "cell_type": "code",
   "execution_count": 52,
   "id": "7b02cb81",
   "metadata": {},
   "outputs": [
    {
     "name": "stdout",
     "output_type": "stream",
     "text": [
      "5\n"
     ]
    }
   ],
   "source": [
    "random_integer = random.randint(1,10)\n",
    "\n",
    "print(random_integer)"
   ]
  },
  {
   "cell_type": "code",
   "execution_count": 54,
   "id": "b602b7df",
   "metadata": {},
   "outputs": [],
   "source": [
    "import my_modulee"
   ]
  },
  {
   "cell_type": "code",
   "execution_count": 55,
   "id": "ff01771b",
   "metadata": {},
   "outputs": [
    {
     "name": "stdout",
     "output_type": "stream",
     "text": [
      "3.14159\n"
     ]
    }
   ],
   "source": [
    "print(my_modulee.pi)"
   ]
  },
  {
   "cell_type": "code",
   "execution_count": 60,
   "id": "62d240f8",
   "metadata": {},
   "outputs": [],
   "source": [
    "random_float = random.random()"
   ]
  },
  {
   "cell_type": "code",
   "execution_count": 61,
   "id": "db9e5e8c",
   "metadata": {},
   "outputs": [
    {
     "name": "stdout",
     "output_type": "stream",
     "text": [
      "0.8047635773903319\n"
     ]
    }
   ],
   "source": [
    "print(random_float)"
   ]
  },
  {
   "cell_type": "markdown",
   "id": "4f5c6760",
   "metadata": {},
   "source": [
    "### \"Heads\" or \"Tails\n",
    "\n",
    "You are going to write a virtual coin toss program. It will randomly tell the user \"Heads\" or \"Tails\".\n",
    "\n",
    "Important, the first letter should be capitalised and spelt exactly like in the example e.g. \"Heads\", not \"heads\".\n",
    "\n",
    "There are many ways of doing this. But to practice what we learnt in the last lesson, you should generate a random number, either 0 or 1. Then use that number to print out \"Heads\" or \"Tails\".\n",
    "\n",
    "e.g. 1 means Heads 0 means Tails\n",
    "\n",
    "Example Output\n",
    "Heads\n",
    "or\n",
    "\n",
    "Tails"
   ]
  },
  {
   "cell_type": "code",
   "execution_count": 62,
   "id": "56b99e97",
   "metadata": {},
   "outputs": [],
   "source": [
    "import random"
   ]
  },
  {
   "cell_type": "code",
   "execution_count": 86,
   "id": "929ee2c9",
   "metadata": {},
   "outputs": [
    {
     "name": "stdout",
     "output_type": "stream",
     "text": [
      "Tails\n"
     ]
    }
   ],
   "source": [
    "random_coins = random.randint(0,1)\n",
    "\n",
    "if random_coins == \"Heads\":\n",
    "    print(\"Heads\")\n",
    "else:\n",
    "    print(\"Tails\")"
   ]
  },
  {
   "cell_type": "code",
   "execution_count": 81,
   "id": "b0fa574e",
   "metadata": {},
   "outputs": [
    {
     "data": {
      "text/plain": [
       "0"
      ]
     },
     "execution_count": 81,
     "metadata": {},
     "output_type": "execute_result"
    }
   ],
   "source": [
    "random_coins"
   ]
  },
  {
   "cell_type": "markdown",
   "id": "fc052419",
   "metadata": {},
   "source": [
    "### Banker Roulette\n",
    "\n",
    "You are going to write a program that will select a random name from a list of names. The person selected will have to pay for everybody's food bill.\n",
    "\n",
    "Important: You are not allowed to use the choice() function.\n",
    "\n",
    "Line 1 splits the string names_string into individual names and puts them inside a List called names. For this to work, you must enter all the names as names followed by comma then space. e.g. name, name, name\n",
    "\n",
    "NOTE: Don't worry about getting hold of the input(), we've done the work behind the scenes to import everything.\n",
    "\n",
    "HINT: Assume that names looks like this: input: x, y, z, names = [\"x\", \"y\", \"z\"]\n",
    "\n",
    "Example Input\n",
    "Angela, Ben, Jenny, Michael, Chloe\n",
    "Note: notice that there is a space between the comma and the next name.\n",
    "\n",
    "Example Output\n",
    "Michael is going to buy the meal today!\n",
    "Hints\n",
    "You might need the help of the len() function. https://stackoverflow.com/questions/1712227/how-do-i-get-the-number-of-elements-in-a-list\n",
    "\n",
    "Remember that Lists start at index 0!"
   ]
  },
  {
   "cell_type": "code",
   "execution_count": 94,
   "id": "09ef61ed",
   "metadata": {},
   "outputs": [
    {
     "name": "stdout",
     "output_type": "stream",
     "text": [
      "Pedro, Maria, Iranel\n",
      "Maria is going to buy the meal today!\n"
     ]
    }
   ],
   "source": [
    "import random\n",
    "\n",
    "names_string = input()\n",
    "\n",
    "\n",
    "names = names_string.split(\", \")\n",
    "\n",
    "random_name= random.choice(names)\n",
    "\n",
    "print(f\"{random_name} is going to buy the meal today!\")\n",
    "\n"
   ]
  },
  {
   "cell_type": "code",
   "execution_count": 91,
   "id": "75d94a30",
   "metadata": {},
   "outputs": [
    {
     "data": {
      "text/plain": [
       "['Pedro', 'Carolina', 'Iranel']"
      ]
     },
     "execution_count": 91,
     "metadata": {},
     "output_type": "execute_result"
    }
   ],
   "source": [
    "names"
   ]
  },
  {
   "cell_type": "code",
   "execution_count": 95,
   "id": "d43e011c",
   "metadata": {},
   "outputs": [],
   "source": [
    "fruits = [\"Strawberries\", \"Nectarines\", \"Apples\", \"Grapes\", \"Peaches\", \"Cherries\", \"Pears\"]"
   ]
  },
  {
   "cell_type": "code",
   "execution_count": 96,
   "id": "6b87befa",
   "metadata": {},
   "outputs": [
    {
     "data": {
      "text/plain": [
       "'Apples'"
      ]
     },
     "execution_count": 96,
     "metadata": {},
     "output_type": "execute_result"
    }
   ],
   "source": [
    "fruits[-5]"
   ]
  },
  {
   "cell_type": "code",
   "execution_count": 97,
   "id": "49b5bb7e",
   "metadata": {},
   "outputs": [
    {
     "name": "stdout",
     "output_type": "stream",
     "text": [
      "Kale\n"
     ]
    }
   ],
   "source": [
    "fruits = [\"Strawberries\", \"Nectarines\", \"Apples\", \"Grapes\", \"Peaches\", \"Cherries\", \"Pears\"]\n",
    "vegetables = [\"Spinach\", \"Kale\", \"Tomatoes\", \"Celery\", \"Potatoes\"]\n",
    " \n",
    "dirty_dozen = [fruits, vegetables]\n",
    " \n",
    "print(dirty_dozen[1][1])"
   ]
  },
  {
   "cell_type": "code",
   "execution_count": 98,
   "id": "0efd410e",
   "metadata": {},
   "outputs": [
    {
     "name": "stdout",
     "output_type": "stream",
     "text": [
      "[['Strawberries', 'Nectarines', 'Apples', 'Grapes', 'Peaches', 'Cherries', 'Pears'], ['Spinach', 'Kale', 'Tomatoes', 'Celery', 'Potatoes']]\n"
     ]
    }
   ],
   "source": [
    "print(dirty_dozen)"
   ]
  },
  {
   "cell_type": "code",
   "execution_count": 99,
   "id": "96bcc7b0",
   "metadata": {},
   "outputs": [
    {
     "name": "stdout",
     "output_type": "stream",
     "text": [
      "['Spinach', 'Kale', 'Tomatoes', 'Celery', 'Potatoes']\n"
     ]
    }
   ],
   "source": [
    "print(dirty_dozen[1])"
   ]
  },
  {
   "cell_type": "code",
   "execution_count": 101,
   "id": "ad9b0ad9",
   "metadata": {},
   "outputs": [
    {
     "name": "stdout",
     "output_type": "stream",
     "text": [
      "['Strawberries', 'Nectarines', 'Apples', 'Grapes', 'Peaches', 'Cherries', 'Pears']\n"
     ]
    }
   ],
   "source": [
    "print(dirty_dozen[0])"
   ]
  },
  {
   "cell_type": "code",
   "execution_count": 102,
   "id": "d16ba110",
   "metadata": {},
   "outputs": [
    {
     "name": "stdout",
     "output_type": "stream",
     "text": [
      "Peaches\n"
     ]
    }
   ],
   "source": [
    "print(dirty_dozen[0][-3])"
   ]
  },
  {
   "cell_type": "markdown",
   "id": "3e873c87",
   "metadata": {},
   "source": [
    "This is a difficult challenge. 💪\n",
    "\n",
    "You are going to write a program that will mark a spot on a map with an X.\n",
    "\n",
    "In the starting code, you will find a variable called map.\n",
    "\n",
    "This map contains a nested list. When map is printed this is what it looks like, notice the nesting:\n",
    "\n",
    "[['⬜️', '⬜️', '⬜️'],['⬜️', '⬜️', '⬜️'],['⬜️', '⬜️', '⬜️']]\n",
    "\n",
    "This is a bit hard to work with. So on lines 6 and 23, we've used this line of code print(f\"{row1}\\n{row2}\\n{row3}\") to format the 3 lists to be printed as a 3 by 3 grid, each on a new line.\n",
    "\n",
    "['⬜️', '⬜️', '⬜️']\n",
    "\n",
    "['⬜️', '⬜️', '⬜️']\n",
    "\n",
    "['⬜️', '⬜️', '⬜️']\n",
    "Now it looks a bit more like the coordinates of a real map:\n",
    "\n",
    "Map Coordinates Example\n",
    "\n",
    "Your job is to write a program that allows you to mark a square on the map using a letter-number system.\n",
    "\n",
    "List coordinates\n",
    "\n",
    "So an input of A3 should place an X at the position shown below:\n",
    "\n",
    "Exmaple location\n",
    "\n",
    "First, your program must take the user input and convert it to a usable format.\n",
    "\n",
    "Next, you need to use that input to update your nested list with an \"X\". Remember that your nested list map actually looks like this:\n",
    "\n",
    "[['⬜️', '⬜️', '⬜️'],['⬜️', '⬜️', '⬜️'],['⬜️', '⬜️', '⬜️']]\n",
    "Example Input 1\n",
    "B3\n",
    "Example Output 1\n",
    "Hiding your treasure! X marks the spot.\n",
    "['⬜️', '️⬜️', '️⬜️']\n",
    "['⬜️', '⬜️', '️⬜️']\n",
    "['⬜️️', 'X', '⬜️️']\n",
    "Example Input 2\n",
    "B1\n",
    "Example Output 2\n",
    "Hiding your treasure! X marks the spot.\n",
    "['⬜️', 'X', '️⬜️']\n",
    "['⬜️', '⬜️', '️⬜️']\n",
    "['⬜️️', '⬜️️', '⬜️️']\n",
    "Hints\n",
    "See if this List method helps you: https://www.w3schools.com/python/ref_list_index.asp\n",
    "\n",
    "Remember that nested Lists in Python are accessed from outside to inside. e.g. In the List below:\n",
    "\n",
    "list = [['A', 'B, 'C'], 'E', 'F', 'G']\n",
    "E is list[1] C is list[0][2]\n",
    "\n",
    "Check your formatting. This is correctly formatted:\n",
    "['⬜️', '⬜️', '⬜️']\n",
    "['⬜️', '⬜️', '⬜️']\n",
    "['⬜️', 'X', '⬜️']\n",
    "vs.\n",
    "\n",
    "Incorrectly formatted (missing a space before 'X and extra space after the X and extra space before the comma):\n",
    "\n",
    "['⬜️', '⬜️', '⬜️']\n",
    "['⬜️', '⬜️', '⬜️']\n",
    "['⬜️','X ' , '⬜️']"
   ]
  },
  {
   "cell_type": "code",
   "execution_count": null,
   "id": "9f68c34b",
   "metadata": {},
   "outputs": [],
   "source": [
    "line1 = [\"⬜️\",\"️⬜️\",\"️⬜️\"]\n",
    "line2 = [\"⬜️\",\"⬜️\",\"️⬜️\"]\n",
    "line3 = [\"⬜️️\",\"⬜️️\",\"⬜️️\"]\n",
    "map = [line1, line2, line3]\n",
    "print(\"Hiding your treasure! X marks the spot.\")\n",
    "position = input() # Where do you want to put the treasure?\n",
    "# 🚨 Don't change the code above 👆\n",
    "# Write your code below this row 👇\n",
    "\n",
    "split_coordinates =\n",
    "\n",
    "\n",
    "\n",
    "\n",
    "# Write your code above this row 👆\n",
    "# 🚨 Don't change the code below 👇\n",
    "print(f\"{line1}\\n{line2}\\n{line3}\")"
   ]
  },
  {
   "cell_type": "code",
   "execution_count": 116,
   "id": "d37f71bd",
   "metadata": {},
   "outputs": [
    {
     "data": {
      "text/plain": [
       "3"
      ]
     },
     "execution_count": 116,
     "metadata": {},
     "output_type": "execute_result"
    }
   ],
   "source": [
    "position = \"B3\"\n",
    "split_coordinates = list(position)\n",
    "\n",
    "index_position = split_coordinates[0]\n",
    "line_position = int(split_coordinates[1])\n",
    "\n",
    "if line_position == line1:\n",
    "     \n",
    "        if index_position == \"A\":\n",
    "        \n",
    "             line1_A = line1[0]\n",
    "        \n",
    "             replace_x = line1_A.replace(\"⬜️\", \"X\" )\n",
    "            \n",
    "             \n",
    "            \n",
    "        elif index_position == \"B\":\n",
    "        \n",
    "             line1_B = line1[1]\n",
    "        \n",
    "             replace_x = line1_B.replace(\"⬜️\", \"X\" )\n",
    "            \n",
    "        elif index_position == \"C\":\n",
    "        \n",
    "             line1_C = line1[1]\n",
    "        \n",
    "             replace_x = line1_C.replace(\"⬜️\", \"X\" )\n",
    "\n",
    "elif line_position == line2:\n",
    "    \n",
    "        if index_position == \"A\":\n",
    "        \n",
    "             line2_A = line2[0]\n",
    "        \n",
    "             replace_x = line2_A.replace(\"⬜️\", \"X\" )\n",
    "            \n",
    "        elif index_position == \"B\":\n",
    "        \n",
    "             line2_B = line2[1]\n",
    "        \n",
    "             replace_x = line2_B.replace(\"⬜️\", \"X\" )\n",
    "            \n",
    "        elif index_position == \"C\":\n",
    "        \n",
    "             line2_C = line2[1]\n",
    "        \n",
    "             replace_x = line2_C.replace(\"⬜️\", \"X\" )\n",
    "            \n",
    "\n",
    "elif line_position == line3:\n",
    "    \n",
    "        if index_position == \"A\":\n",
    "        \n",
    "             line3_A = line3[0]\n",
    "        \n",
    "             replace_x = line3_A.replace(\"⬜️\", \"X\" )\n",
    "            \n",
    "        elif index_position == \"B\":\n",
    "        \n",
    "             line3_B = line3[1]\n",
    "        \n",
    "             replace_x = line3_B.replace(\"⬜️\", \"X\" )\n",
    "            \n",
    "        elif index_position == \"C\":\n",
    "        \n",
    "             line3_C = line3[1]\n",
    "        \n",
    "             replace_x = line3_C.replace(\"⬜️\", \"X\" )\n",
    "\n",
    "\n",
    "   \n",
    "\n",
    "\n"
   ]
  },
  {
   "cell_type": "code",
   "execution_count": 109,
   "id": "893f9959",
   "metadata": {},
   "outputs": [
    {
     "data": {
      "text/plain": [
       "['B', '3']"
      ]
     },
     "execution_count": 109,
     "metadata": {},
     "output_type": "execute_result"
    }
   ],
   "source": [
    "split_coordinates"
   ]
  },
  {
   "cell_type": "code",
   "execution_count": null,
   "id": "55ebc4f5",
   "metadata": {},
   "outputs": [],
   "source": [
    "line1 = [\"⬜️\",\"️⬜️\",\"️⬜️\"]\n",
    "line2 = [\"⬜️\",\"⬜️\",\"️⬜️\"]\n",
    "line3 = [\"⬜️️\",\"⬜️️\",\"⬜️️\"]\n",
    "\n",
    "#map = [line1, line2, line3]\n",
    "\n",
    "position = \"B3\"\n",
    "split_coordinates = list(position)\n",
    "\n",
    "index_position = split_coordinates[0]\n",
    "line_position = int(split_coordinates[1])\n",
    "\n",
    "if line_position == line1:\n",
    "     \n",
    "        if index_position == \"A\":\n",
    "        \n",
    "             line1_A = line1[0]\n",
    "        \n",
    "             replace_x = line1_A.replace(\"⬜️\", \"X\" )"
   ]
  },
  {
   "cell_type": "code",
   "execution_count": 123,
   "id": "eba5822f",
   "metadata": {},
   "outputs": [
    {
     "ename": "AttributeError",
     "evalue": "'list' object has no attribute 'replace'",
     "output_type": "error",
     "traceback": [
      "\u001b[1;31m---------------------------------------------------------------------------\u001b[0m",
      "\u001b[1;31mAttributeError\u001b[0m                            Traceback (most recent call last)",
      "\u001b[1;32m~\\AppData\\Local\\Temp\\ipykernel_46568\\2036287904.py\u001b[0m in \u001b[0;36m<module>\u001b[1;34m\u001b[0m\n\u001b[0;32m      4\u001b[0m \u001b[0mreplace_x\u001b[0m \u001b[1;33m=\u001b[0m \u001b[0mline1_A\u001b[0m\u001b[1;33m.\u001b[0m\u001b[0mreplace\u001b[0m\u001b[1;33m(\u001b[0m\u001b[1;34m\"⬜️\"\u001b[0m\u001b[1;33m,\u001b[0m \u001b[1;34m\"X\"\u001b[0m \u001b[1;33m)\u001b[0m\u001b[1;33m\u001b[0m\u001b[1;33m\u001b[0m\u001b[0m\n\u001b[0;32m      5\u001b[0m \u001b[1;33m\u001b[0m\u001b[0m\n\u001b[1;32m----> 6\u001b[1;33m \u001b[0mreplacement\u001b[0m \u001b[1;33m=\u001b[0m \u001b[0mline1\u001b[0m\u001b[1;33m.\u001b[0m\u001b[0mreplace\u001b[0m\u001b[1;33m(\u001b[0m\u001b[0mline1_A\u001b[0m\u001b[1;33m,\u001b[0m\u001b[0mreplace_x\u001b[0m\u001b[1;33m)\u001b[0m\u001b[1;33m\u001b[0m\u001b[1;33m\u001b[0m\u001b[0m\n\u001b[0m",
      "\u001b[1;31mAttributeError\u001b[0m: 'list' object has no attribute 'replace'"
     ]
    }
   ],
   "source": [
    "line1 = [\"⬜️\",\"️⬜️\",\"️⬜️\"]\n",
    "\n",
    "line1_A = line1[0]\n",
    "replace_x = line1_A.replace(\"⬜️\", \"X\" )\n",
    "\n",
    "replacement = line1.replace(line1_A,replace_x)\n"
   ]
  },
  {
   "cell_type": "code",
   "execution_count": 120,
   "id": "40e6d53c",
   "metadata": {},
   "outputs": [
    {
     "data": {
      "text/plain": [
       "'X'"
      ]
     },
     "execution_count": 120,
     "metadata": {},
     "output_type": "execute_result"
    }
   ],
   "source": [
    "replace_x"
   ]
  },
  {
   "cell_type": "code",
   "execution_count": 121,
   "id": "b43832c8",
   "metadata": {},
   "outputs": [
    {
     "data": {
      "text/plain": [
       "['⬜️', '️⬜️', '️⬜️']"
      ]
     },
     "execution_count": 121,
     "metadata": {},
     "output_type": "execute_result"
    }
   ],
   "source": [
    "line1"
   ]
  },
  {
   "cell_type": "code",
   "execution_count": null,
   "id": "99b329e7",
   "metadata": {},
   "outputs": [],
   "source": [
    "line1 = [\"⬜️\",\"️⬜️\",\"️⬜️\"]\n",
    "line2 = [\"⬜️\",\"⬜️\",\"️⬜️\"]\n",
    "line3 = [\"⬜️️\",\"⬜️️\",\"⬜️️\"]\n",
    "\n",
    "map = [line1, line2, line3]\n",
    "\n",
    "\n",
    "position = \"B3\"\n",
    "split_coordinates = list(position)\n",
    "\n",
    "\n",
    "letter_position = split_coordinates[0]\n",
    "number_position = int(split_coordinates[1])\n",
    "\n",
    "# A position\n",
    "if map == map[0]:\n",
    "     \n",
    "        if map[0][0] == \"A\":\n",
    "        \n",
    "             line1_A = line1[0]\n",
    "        \n",
    "             replace_x = line1_A.replace(\"⬜️\", \"X\" )\n",
    "            \n",
    "             \n",
    "            \n",
    "        elif index_position == \"B\":\n",
    "        \n",
    "             line1_B = line1[1]\n",
    "        \n",
    "             replace_x = line1_B.replace(\"⬜️\", \"X\" )\n",
    "            \n",
    "        elif index_position == \"C\":\n",
    "        \n",
    "             line1_C = line1[1]\n",
    "        \n",
    "             replace_x = line1_C.replace(\"⬜️\", \"X\" )\n",
    "# B position\n",
    "elif map == map[1]:\n",
    "    \n",
    "        if index_position == \"A\":\n",
    "        \n",
    "             line2_A = line2[0]\n",
    "        \n",
    "             replace_x = line2_A.replace(\"⬜️\", \"X\" )\n",
    "            \n",
    "        elif index_position == \"B\":\n",
    "        \n",
    "             line2_B = line2[1]\n",
    "        \n",
    "             replace_x = line2_B.replace(\"⬜️\", \"X\" )\n",
    "            \n",
    "        elif index_position == \"C\":\n",
    "        \n",
    "             line2_C = line2[1]\n",
    "        \n",
    "             replace_x = line2_C.replace(\"⬜️\", \"X\" )\n",
    "            \n",
    "# C position\n",
    "elif map == map[2]:\n",
    "    \n",
    "        if index_position == \"A\":\n",
    "        \n",
    "             line3_A = line3[0]\n",
    "        \n",
    "             replace_x = line3_A.replace(\"⬜️\", \"X\" )\n",
    "            \n",
    "        elif index_position == \"B\":\n",
    "        \n",
    "             line3_B = line3[1]\n",
    "        \n",
    "             replace_x = line3_B.replace(\"⬜️\", \"X\" )\n",
    "            \n",
    "        elif index_position == \"C\":\n",
    "        \n",
    "             line3_C = line3[1]\n",
    "        \n",
    "             replace_x = line3_C.replace(\"⬜️\", \"X\" )\n"
   ]
  },
  {
   "cell_type": "code",
   "execution_count": 130,
   "id": "a5551a17",
   "metadata": {},
   "outputs": [
    {
     "name": "stdout",
     "output_type": "stream",
     "text": [
      "X\n"
     ]
    }
   ],
   "source": [
    "\n",
    "\n",
    "line1 = [\"⬜️\",\"️⬜️\",\"️⬜️\"]\n",
    "line2 = [\"⬜️\",\"⬜️\",\"️⬜️\"]\n",
    "line3 = [\"⬜️️\",\"⬜️️\",\"⬜️️\"]\n",
    "\n",
    "map = [line1, line2, line3]\n",
    "\n",
    "\n",
    "position = \"B3\"\n",
    "split_coordinates = list(position)\n",
    "\n",
    "\n",
    "letter_position = split_coordinates[0]\n",
    "number_position = int(split_coordinates[1])\n",
    "\n",
    "\n",
    "if number_position == 3:\n",
    "    \n",
    "    if letter_position ==\"B\":\n",
    "    \n",
    "         new_map = (map[2][1]).replace(\"⬜️️\", \"X\")\n",
    "         print(new_map)\n",
    "        \n",
    "        \n",
    "    else:\n",
    "    \n",
    "       print(\"ok\")\n",
    "        \n",
    "else:\n",
    "    \n",
    "    print(\"ok too\")"
   ]
  },
  {
   "cell_type": "code",
   "execution_count": 131,
   "id": "eff8b5b5",
   "metadata": {},
   "outputs": [
    {
     "data": {
      "text/plain": [
       "[['⬜️', '️⬜️', '️⬜️'], ['⬜️', '⬜️', '️⬜️'], ['⬜️️', '⬜️️', '⬜️️']]"
      ]
     },
     "execution_count": 131,
     "metadata": {},
     "output_type": "execute_result"
    }
   ],
   "source": [
    "map"
   ]
  },
  {
   "cell_type": "code",
   "execution_count": 132,
   "id": "b1c12464",
   "metadata": {},
   "outputs": [
    {
     "name": "stdout",
     "output_type": "stream",
     "text": [
      "Hi, World! Hi, Universe!\n",
      "Hi, World! Hello, Universe!\n"
     ]
    }
   ],
   "source": [
    "original_string = \"Hello, World! Hello, Universe!\"\n",
    "new_string = original_string.replace(\"Hello\", \"Hi\")\n",
    "print(new_string)\n",
    "# Output: \"Hi, World! Hi, Universe!\"\n",
    "\n",
    "# Using count to replace only the first occurrence\n",
    "limited_replace = original_string.replace(\"Hello\", \"Hi\", 1)\n",
    "print(limited_replace)\n",
    "# Output: \"Hi, World! Hello, Universe!\"\n"
   ]
  },
  {
   "cell_type": "code",
   "execution_count": null,
   "id": "14b73292",
   "metadata": {},
   "outputs": [],
   "source": [
    "line1 = [\"⬜️\",\"️⬜️\",\"️⬜️\"]\n",
    "line2 = [\"⬜️\",\"⬜️\",\"️⬜️\"]\n",
    "line3 = [\"⬜️️\",\"⬜️️\",\"⬜️️\"]\n",
    "\n",
    "map = [line1, line2, line3]\n",
    "\n",
    "print(\"Hiding your treasure! X marks the spot.\")\n",
    "position = input() # Where do you want to put the treasure?\n",
    "# 🚨 Don't change the code above 👆\n",
    "# Write your code below this row 👇\n",
    "\n",
    "\n",
    "letter= position[0].lower()\n",
    "\n",
    "abc = [\"a\",\"b\", \"c\"]\n",
    "letter_index = abc.index(letter)\n",
    "\n",
    "\n",
    "# we need to substract 1 in ordern to get the index\n",
    "\n",
    "number_index = int(position[1])-1\n",
    "\n",
    "\n",
    "map[number_index][letter_index] = \"X\"\n",
    "\n",
    "\n",
    "\n",
    "\n",
    "\n",
    "\n"
   ]
  },
  {
   "cell_type": "code",
   "execution_count": 136,
   "id": "416a218e",
   "metadata": {},
   "outputs": [
    {
     "name": "stdout",
     "output_type": "stream",
     "text": [
      "Hiding your treasure! X marks the spot.\n",
      "B3\n",
      "['⬜️', '️⬜️', '️⬜️']\n",
      "['⬜️', '⬜️', '️⬜️']\n",
      "['⬜️️', 'X', '⬜️️']\n"
     ]
    }
   ],
   "source": [
    "line1 = [\"⬜️\",\"️⬜️\",\"️⬜️\"]\n",
    "line2 = [\"⬜️\",\"⬜️\",\"️⬜️\"]\n",
    "line3 = [\"⬜️️\",\"⬜️️\",\"⬜️️\"]\n",
    "map = [line1, line2, line3]\n",
    "print(\"Hiding your treasure! X marks the spot.\")\n",
    "position = input() # Where do you want to put the treasure?\n",
    "# 🚨 Don't change the code above 👆\n",
    "# Write your code below this row 👇\n",
    "letter= position[0].lower()\n",
    "\n",
    "abc = [\"a\",\"b\", \"c\"]\n",
    "letter_index = abc.index(letter)\n",
    "\n",
    "\n",
    "# we need to substract 1 in ordern to get the index\n",
    "\n",
    "number_index = int(position[1])-1\n",
    "\n",
    "\n",
    "map[number_index][letter_index] = \"X\"\n",
    "\n",
    "# Write your code above this row 👆\n",
    "# 🚨 Don't change the code below 👇\n",
    "print(f\"{line1}\\n{line2}\\n{line3}\")"
   ]
  },
  {
   "cell_type": "markdown",
   "id": "bb03f6b1",
   "metadata": {},
   "source": [
    "### Average Height\n",
    "\n",
    "You are going to write a program that calculates the average student height from a List of heights.\n",
    "\n",
    "e.g. student_heights = [180, 124, 165, 173, 189, 169, 146]\n",
    "\n",
    "The average height can be calculated by adding all the heights together and dividing by the total number of heights.\n",
    "\n",
    "e.g.\n",
    "\n",
    "180 + 124 + 165 + 173 + 189 + 169 + 146 = 1146\n",
    "\n",
    "There are a total of 7 heights in student_heights\n",
    "\n",
    "1146 ÷ 7 = 163.71428571428572\n",
    "\n",
    "Average height rounded to the nearest whole number = 164\n",
    "\n",
    "Important You should not use the sum() or len() functions in your answer. You should try to replicate their functionality using what you have learnt about for loops.\n",
    "\n",
    "Example Input 1\n",
    "156 178 165 171 187\n",
    "In this case, student_heights would be a list that looks like: [156, 178, 165, 171, 187]\n",
    "\n",
    "Example Output 1\n",
    "total height = 857\n",
    "number of students = 5\n",
    "average height = 171\n",
    "Example Input 2\n",
    "151 145 179\n",
    "Example Output 2\n",
    "total height = 475\n",
    "number of students = 3\n",
    "average height = 158"
   ]
  },
  {
   "cell_type": "code",
   "execution_count": 137,
   "id": "471b968c",
   "metadata": {},
   "outputs": [
    {
     "ename": "KeyboardInterrupt",
     "evalue": "Interrupted by user",
     "output_type": "error",
     "traceback": [
      "\u001b[1;31m---------------------------------------------------------------------------\u001b[0m",
      "\u001b[1;31mKeyboardInterrupt\u001b[0m                         Traceback (most recent call last)",
      "\u001b[1;32m~\\AppData\\Local\\Temp\\ipykernel_46568\\4238761686.py\u001b[0m in \u001b[0;36m<module>\u001b[1;34m\u001b[0m\n\u001b[0;32m      1\u001b[0m \u001b[1;31m# Input a Python list of student heights\u001b[0m\u001b[1;33m\u001b[0m\u001b[1;33m\u001b[0m\u001b[0m\n\u001b[1;32m----> 2\u001b[1;33m \u001b[0mstudent_heights\u001b[0m \u001b[1;33m=\u001b[0m \u001b[0minput\u001b[0m\u001b[1;33m(\u001b[0m\u001b[1;33m)\u001b[0m\u001b[1;33m.\u001b[0m\u001b[0msplit\u001b[0m\u001b[1;33m(\u001b[0m\u001b[1;33m)\u001b[0m\u001b[1;33m\u001b[0m\u001b[1;33m\u001b[0m\u001b[0m\n\u001b[0m\u001b[0;32m      3\u001b[0m \u001b[1;33m\u001b[0m\u001b[0m\n\u001b[0;32m      4\u001b[0m \u001b[1;32mfor\u001b[0m \u001b[0mn\u001b[0m \u001b[1;32min\u001b[0m \u001b[0mrange\u001b[0m\u001b[1;33m(\u001b[0m\u001b[1;36m0\u001b[0m\u001b[1;33m,\u001b[0m \u001b[0mlen\u001b[0m\u001b[1;33m(\u001b[0m\u001b[0mstudent_heights\u001b[0m\u001b[1;33m)\u001b[0m\u001b[1;33m)\u001b[0m\u001b[1;33m:\u001b[0m\u001b[1;33m\u001b[0m\u001b[1;33m\u001b[0m\u001b[0m\n\u001b[0;32m      5\u001b[0m \u001b[1;33m\u001b[0m\u001b[0m\n",
      "\u001b[1;32m~\\anaconda3\\lib\\site-packages\\ipykernel\\kernelbase.py\u001b[0m in \u001b[0;36mraw_input\u001b[1;34m(self, prompt)\u001b[0m\n\u001b[0;32m   1175\u001b[0m                 \u001b[1;34m\"raw_input was called, but this frontend does not support input requests.\"\u001b[0m\u001b[1;33m\u001b[0m\u001b[1;33m\u001b[0m\u001b[0m\n\u001b[0;32m   1176\u001b[0m             )\n\u001b[1;32m-> 1177\u001b[1;33m         return self._input_request(\n\u001b[0m\u001b[0;32m   1178\u001b[0m             \u001b[0mstr\u001b[0m\u001b[1;33m(\u001b[0m\u001b[0mprompt\u001b[0m\u001b[1;33m)\u001b[0m\u001b[1;33m,\u001b[0m\u001b[1;33m\u001b[0m\u001b[1;33m\u001b[0m\u001b[0m\n\u001b[0;32m   1179\u001b[0m             \u001b[0mself\u001b[0m\u001b[1;33m.\u001b[0m\u001b[0m_parent_ident\u001b[0m\u001b[1;33m[\u001b[0m\u001b[1;34m\"shell\"\u001b[0m\u001b[1;33m]\u001b[0m\u001b[1;33m,\u001b[0m\u001b[1;33m\u001b[0m\u001b[1;33m\u001b[0m\u001b[0m\n",
      "\u001b[1;32m~\\anaconda3\\lib\\site-packages\\ipykernel\\kernelbase.py\u001b[0m in \u001b[0;36m_input_request\u001b[1;34m(self, prompt, ident, parent, password)\u001b[0m\n\u001b[0;32m   1217\u001b[0m             \u001b[1;32mexcept\u001b[0m \u001b[0mKeyboardInterrupt\u001b[0m\u001b[1;33m:\u001b[0m\u001b[1;33m\u001b[0m\u001b[1;33m\u001b[0m\u001b[0m\n\u001b[0;32m   1218\u001b[0m                 \u001b[1;31m# re-raise KeyboardInterrupt, to truncate traceback\u001b[0m\u001b[1;33m\u001b[0m\u001b[1;33m\u001b[0m\u001b[0m\n\u001b[1;32m-> 1219\u001b[1;33m                 \u001b[1;32mraise\u001b[0m \u001b[0mKeyboardInterrupt\u001b[0m\u001b[1;33m(\u001b[0m\u001b[1;34m\"Interrupted by user\"\u001b[0m\u001b[1;33m)\u001b[0m \u001b[1;32mfrom\u001b[0m \u001b[1;32mNone\u001b[0m\u001b[1;33m\u001b[0m\u001b[1;33m\u001b[0m\u001b[0m\n\u001b[0m\u001b[0;32m   1220\u001b[0m             \u001b[1;32mexcept\u001b[0m \u001b[0mException\u001b[0m\u001b[1;33m:\u001b[0m\u001b[1;33m\u001b[0m\u001b[1;33m\u001b[0m\u001b[0m\n\u001b[0;32m   1221\u001b[0m                 \u001b[0mself\u001b[0m\u001b[1;33m.\u001b[0m\u001b[0mlog\u001b[0m\u001b[1;33m.\u001b[0m\u001b[0mwarning\u001b[0m\u001b[1;33m(\u001b[0m\u001b[1;34m\"Invalid Message:\"\u001b[0m\u001b[1;33m,\u001b[0m \u001b[0mexc_info\u001b[0m\u001b[1;33m=\u001b[0m\u001b[1;32mTrue\u001b[0m\u001b[1;33m)\u001b[0m\u001b[1;33m\u001b[0m\u001b[1;33m\u001b[0m\u001b[0m\n",
      "\u001b[1;31mKeyboardInterrupt\u001b[0m: Interrupted by user"
     ]
    }
   ],
   "source": [
    "# Input a Python list of student heights\n",
    "student_heights = input().split()\n",
    "\n",
    "for n in range(0, len(student_heights)):\n",
    "    \n",
    "    student_heights[n] = int(student_heights[n])\n",
    "# 🚨 Don't change the code above 👆\n",
    "  \n",
    "# Write your code below this row 👇\n",
    "\n",
    "    \n",
    "total_height = 0\n",
    "\n",
    "for height in student_heights:\n",
    "    \n",
    "    total_height += height\n",
    "    \n",
    "print(f\"total_height= {total_height}\")\n",
    "\n",
    "\n",
    "number_of_students = 0\n",
    "\n",
    "for number in student_heights:\n",
    "    \n",
    "    number_of_students += 1\n",
    "    \n",
    "print(f\"number_of_students {number_of_students}\")\n",
    "\n",
    "\n",
    "average = round(total_height/number_of_students)\n",
    "\n",
    "print(f\"average height{average}\")\n",
    "\n",
    "\n",
    "\n",
    "\n",
    "\n",
    "\n",
    "\n"
   ]
  },
  {
   "cell_type": "markdown",
   "id": "6d82739b",
   "metadata": {},
   "source": [
    "### Day 5"
   ]
  },
  {
   "cell_type": "code",
   "execution_count": 10,
   "id": "f736b996",
   "metadata": {},
   "outputs": [
    {
     "name": "stdout",
     "output_type": "stream",
     "text": [
      " 78 65 89 86 55 91 64 89\n",
      "0\n",
      "78\n",
      "89\n",
      " The highest score in the class is: 91\n"
     ]
    }
   ],
   "source": [
    "# Input a list of student scores\n",
    "student_scores = input().split()\n",
    "for n in range(0, len(student_scores)):\n",
    "    \n",
    "    student_scores[n] = int(student_scores[n])\n",
    "\n",
    "    \n",
    "    \n",
    "    \n",
    "# Write your code below this row 👇\n",
    "\n",
    "highest_score = 0\n",
    "\n",
    "for score in student_scores:\n",
    "    \n",
    "     if score > highest_score:\n",
    "       \n",
    "            \n",
    "        highest_score = score\n",
    "    \n",
    "\n",
    "print(f\" The highest score in the class is: {highest_score}\" )\n",
    "\n",
    "    \n"
   ]
  },
  {
   "cell_type": "code",
   "execution_count": 33,
   "id": "68c67325",
   "metadata": {},
   "outputs": [],
   "source": [
    "# 78 65 89 86 55 91 64 89\n",
    "\n",
    "list_01 = \"78, 65, 89, 86, 55, 91, 64, 89\"\n",
    "\n",
    "list_02= list_01.split(\",\")\n",
    "\n",
    "\n",
    "for n in range(0, len(list_02)):\n",
    "    \n",
    "      list_02[n] = int(list_02[n])\n",
    "   \n",
    "\n",
    " \n"
   ]
  },
  {
   "cell_type": "code",
   "execution_count": 30,
   "id": "87a63d55",
   "metadata": {},
   "outputs": [],
   "source": [
    "list_01 = \"78, 65, 89, 86, 55, 91, 64, 89\"\n",
    "\n",
    "list_02= list_01.split()"
   ]
  },
  {
   "cell_type": "code",
   "execution_count": 31,
   "id": "01242d69",
   "metadata": {},
   "outputs": [
    {
     "data": {
      "text/plain": [
       "['78,', '65,', '89,', '86,', '55,', '91,', '64,', '89']"
      ]
     },
     "execution_count": 31,
     "metadata": {},
     "output_type": "execute_result"
    }
   ],
   "source": [
    "list_02"
   ]
  },
  {
   "cell_type": "markdown",
   "id": "78f7f873",
   "metadata": {},
   "source": [
    "### Adding Even numbers"
   ]
  },
  {
   "cell_type": "code",
   "execution_count": 39,
   "id": "aa3dcc5a",
   "metadata": {},
   "outputs": [
    {
     "name": "stdout",
     "output_type": "stream",
     "text": [
      "7\n",
      "12\n"
     ]
    }
   ],
   "source": [
    "target = int(input()) # Enter a number between 0 and 1000\n",
    "# 🚨 Do not change the code above ☝️\n",
    "\n",
    "# Write your code here 👇\n",
    "\n",
    "total = 0\n",
    "\n",
    "for n in range(2, target+1, 2):\n",
    "\n",
    "      total += n\n",
    "    \n",
    "print(total)\n",
    "\n",
    "      "
   ]
  },
  {
   "cell_type": "code",
   "execution_count": 40,
   "id": "bf58ddf8",
   "metadata": {},
   "outputs": [
    {
     "name": "stdout",
     "output_type": "stream",
     "text": [
      "range(0, 100)\n"
     ]
    }
   ],
   "source": [
    "range_01 = range(0,100)\n",
    "\n",
    "print(range_01)"
   ]
  },
  {
   "cell_type": "code",
   "execution_count": 41,
   "id": "88cb930c",
   "metadata": {},
   "outputs": [
    {
     "data": {
      "text/plain": [
       "range(0, 100)"
      ]
     },
     "execution_count": 41,
     "metadata": {},
     "output_type": "execute_result"
    }
   ],
   "source": [
    "range(0,100)"
   ]
  },
  {
   "cell_type": "code",
   "execution_count": 42,
   "id": "01f2066f",
   "metadata": {},
   "outputs": [
    {
     "data": {
      "text/plain": [
       "range(2, 100, 2)"
      ]
     },
     "execution_count": 42,
     "metadata": {},
     "output_type": "execute_result"
    }
   ],
   "source": [
    "range(2,100,2)"
   ]
  },
  {
   "cell_type": "code",
   "execution_count": 45,
   "id": "348fd99a",
   "metadata": {},
   "outputs": [
    {
     "name": "stdout",
     "output_type": "stream",
     "text": [
      "0\n",
      "1\n",
      "2\n",
      "3\n",
      "4\n",
      "5\n",
      "6\n",
      "7\n",
      "8\n",
      "9\n",
      "10\n",
      "11\n",
      "12\n",
      "13\n",
      "14\n",
      "15\n",
      "16\n",
      "17\n",
      "18\n",
      "19\n",
      "20\n",
      "21\n",
      "22\n",
      "23\n",
      "24\n",
      "25\n",
      "26\n",
      "27\n",
      "28\n",
      "29\n",
      "30\n",
      "31\n",
      "32\n",
      "33\n",
      "34\n",
      "35\n",
      "36\n",
      "37\n",
      "38\n",
      "39\n",
      "40\n",
      "41\n",
      "42\n",
      "43\n",
      "44\n",
      "45\n",
      "46\n",
      "47\n",
      "48\n",
      "49\n",
      "50\n",
      "51\n",
      "52\n",
      "53\n",
      "54\n",
      "55\n",
      "56\n",
      "57\n",
      "58\n",
      "59\n",
      "60\n",
      "61\n",
      "62\n",
      "63\n",
      "64\n",
      "65\n",
      "66\n",
      "67\n",
      "68\n",
      "69\n",
      "70\n",
      "71\n",
      "72\n",
      "73\n",
      "74\n",
      "75\n",
      "76\n",
      "77\n",
      "78\n",
      "79\n",
      "80\n",
      "81\n",
      "82\n",
      "83\n",
      "84\n",
      "85\n",
      "86\n",
      "87\n",
      "88\n",
      "89\n",
      "90\n",
      "91\n",
      "92\n",
      "93\n",
      "94\n",
      "95\n",
      "96\n",
      "97\n",
      "98\n",
      "99\n"
     ]
    }
   ],
   "source": [
    "for n in range(0,100):\n",
    "    \n",
    "    print(n)"
   ]
  },
  {
   "cell_type": "code",
   "execution_count": null,
   "id": "c2000951",
   "metadata": {},
   "outputs": [],
   "source": []
  }
 ],
 "metadata": {
  "kernelspec": {
   "display_name": "Python 3 (ipykernel)",
   "language": "python",
   "name": "python3"
  },
  "language_info": {
   "codemirror_mode": {
    "name": "ipython",
    "version": 3
   },
   "file_extension": ".py",
   "mimetype": "text/x-python",
   "name": "python",
   "nbconvert_exporter": "python",
   "pygments_lexer": "ipython3",
   "version": "3.9.13"
  }
 },
 "nbformat": 4,
 "nbformat_minor": 5
}
