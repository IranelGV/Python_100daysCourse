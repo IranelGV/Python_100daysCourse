{
 "cells": [
  {
   "cell_type": "code",
   "execution_count": 1,
   "id": "797f945b",
   "metadata": {},
   "outputs": [],
   "source": [
    "import random"
   ]
  },
  {
   "cell_type": "code",
   "execution_count": 70,
   "id": "2a51a52a",
   "metadata": {},
   "outputs": [
    {
     "name": "stdout",
     "output_type": "stream",
     "text": [
      "Welcome to the PyPassword Generator!\n",
      "How many letters would you like in your password?\n",
      "3\n",
      "How many numbers would you like?\n",
      "3\n",
      "How many symbols would you like?\n",
      "3\n",
      "['c', 'Q', 'X', '0', '4', '7', '&', '!', '%']\n",
      "Here is your password: cQX047&!%\n",
      "Here is your Rock Start Password!: 0!X&Q74c%\n"
     ]
    }
   ],
   "source": [
    "#Password Generator Project\n",
    "import random\n",
    "letters = ['a', 'b', 'c', 'd', 'e', 'f', 'g', 'h', 'i', 'j', 'k', 'l', 'm', 'n', 'o', 'p', 'q', 'r', 's', 't', 'u', 'v', 'w', 'x', 'y', 'z', 'A', 'B', 'C', 'D', 'E', 'F', 'G', 'H', 'I', 'J', 'K', 'L', 'M', 'N', 'O', 'P', 'Q', 'R', 'S', 'T', 'U', 'V', 'W', 'X', 'Y', 'Z']\n",
    "numbers = ['0', '1', '2', '3', '4', '5', '6', '7', '8', '9']\n",
    "symbols = ['!', '#', '$', '%', '&', '(', ')', '*', '+']\n",
    "\n",
    "print(\"Welcome to the PyPassword Generator!\")\n",
    "\n",
    "nr_letters = int(input(\"How many letters would you like in your password?\\n\")) \n",
    "\n",
    "nr_numbers = int(input(f\"How many numbers would you like?\\n\"))\n",
    "\n",
    "nr_symbols = int(input(f\"How many symbols would you like?\\n\"))\n",
    "\n",
    "\n",
    "# letters_choice = random.choice(letters) with random.choice methon I cant choose  the number of elements.\n",
    "\n",
    "letters_choice = random.sample(letters, nr_letters)\n",
    "\n",
    "numbers_choice = random.sample(numbers, nr_numbers)\n",
    "\n",
    "symbols_choice = random.sample(symbols, nr_symbols )\n",
    "\n",
    "Total_digits = nr_letters + nr_numbers + nr_symbols \n",
    "\n",
    "\n",
    "\n",
    "\n",
    "Password = letters_choice+numbers_choice+symbols_choice\n",
    "\n",
    "\n",
    "Password_join = \"\".join(map(str, Password))\n",
    "\n",
    "\n",
    "# Split the string into a list of characters\n",
    "\n",
    "\n",
    "list_password_join = list(Password_join)\n",
    "\n",
    "#print(list_password_join )\n",
    "\n",
    "#Password_crack = random.sample(list_password_join,Total_digits)\n",
    "# como use de nuevo random, mi random answer va estar en una lista, tengo que sacarlo de esa lista e imprimirlo!\n",
    "\n",
    "\n",
    "random_list_password = random.sample(list_password_join, Total_digits)\n",
    "\n",
    "\n",
    "Password_join_crack = \"\".join(map(str,random_list_password))\n",
    "\n",
    "\n",
    "\n",
    "\n",
    "\n",
    "#print(Password_join_crack)\n",
    "\n",
    "\n",
    "\n",
    "print(\"Here is your password:\", Password_join)\n",
    "\n",
    "\n",
    "\n",
    "print(\"Here is your Rock Start Password!:\", Password_join_crack)\n"
   ]
  },
  {
   "cell_type": "code",
   "execution_count": 64,
   "id": "327b2b19",
   "metadata": {},
   "outputs": [
    {
     "name": "stdout",
     "output_type": "stream",
     "text": [
      "List as a string: 1, 2, 3, 4, 5\n"
     ]
    }
   ],
   "source": [
    "my_list = [1, 2, 3, 4, 5]\n",
    "\n",
    "# Convert the list to a string with comma-separated values\n",
    "my_string = ', '.join(map(str, my_list))\n",
    "\n",
    "print(\"List as a string:\", my_string)\n"
   ]
  },
  {
   "cell_type": "code",
   "execution_count": 18,
   "id": "62cb5436",
   "metadata": {},
   "outputs": [
    {
     "name": "stdout",
     "output_type": "stream",
     "text": [
      "[5, 4, 3]\n",
      "<class 'list'>\n"
     ]
    }
   ],
   "source": [
    "my_list = [1, 2, 3, 4, 5]\n",
    "\n",
    "random_number = random.sample(my_list,3)\n",
    "\n",
    "print(random_number)\n",
    "print(type(random_number))"
   ]
  },
  {
   "cell_type": "code",
   "execution_count": 41,
   "id": "ad171073",
   "metadata": {},
   "outputs": [],
   "source": [
    "my_string = \"Maria\"\n",
    "\n",
    "split_my_string = my_string.split()"
   ]
  },
  {
   "cell_type": "code",
   "execution_count": 42,
   "id": "aee2e339",
   "metadata": {},
   "outputs": [
    {
     "data": {
      "text/plain": [
       "['Maria']"
      ]
     },
     "execution_count": 42,
     "metadata": {},
     "output_type": "execute_result"
    }
   ],
   "source": [
    "split_my_string"
   ]
  },
  {
   "cell_type": "code",
   "execution_count": 43,
   "id": "16a48556",
   "metadata": {},
   "outputs": [],
   "source": [
    "list_my_string = list(my_string)"
   ]
  },
  {
   "cell_type": "code",
   "execution_count": 44,
   "id": "920b1455",
   "metadata": {},
   "outputs": [
    {
     "data": {
      "text/plain": [
       "['M', 'a', 'r', 'i', 'a']"
      ]
     },
     "execution_count": 44,
     "metadata": {},
     "output_type": "execute_result"
    }
   ],
   "source": [
    "list_my_string"
   ]
  },
  {
   "cell_type": "code",
   "execution_count": 45,
   "id": "584f10f6",
   "metadata": {},
   "outputs": [
    {
     "name": "stdout",
     "output_type": "stream",
     "text": [
      "List as a string: Pedro, 2, Ira, 4, 5\n"
     ]
    }
   ],
   "source": [
    "my_list = [\"Pedro\", 2, \"Ira\", 4, 5]\n",
    "\n",
    "# Convert the list to a string with comma-separated values\n",
    "my_string = ', '.join(map(str, my_list))\n",
    "\n",
    "print(\"List as a string:\", my_string)"
   ]
  },
  {
   "cell_type": "code",
   "execution_count": 49,
   "id": "6f36057a",
   "metadata": {},
   "outputs": [],
   "source": [
    "random_list = random.sample(my_list,5)"
   ]
  },
  {
   "cell_type": "code",
   "execution_count": 50,
   "id": "d9c1f5d6",
   "metadata": {},
   "outputs": [
    {
     "data": {
      "text/plain": [
       "['Pedro', 2, 4, 'Ira', 5]"
      ]
     },
     "execution_count": 50,
     "metadata": {},
     "output_type": "execute_result"
    }
   ],
   "source": [
    "random_list"
   ]
  },
  {
   "cell_type": "code",
   "execution_count": 56,
   "id": "d8e5494e",
   "metadata": {},
   "outputs": [
    {
     "name": "stdout",
     "output_type": "stream",
     "text": [
      "spiderman\n",
      "['Batman']\n"
     ]
    }
   ],
   "source": [
    "movies= [\"frozen\", \"Batman\", \"spiderman\", \"Cinderella\"]\n",
    "\n",
    "random_movie = random.choice(movies)\n",
    "\n",
    "random_movie_sample = random.sample(movies,1)\n",
    "\n",
    "print(random_movie)\n",
    "\n",
    "print(random_movie_sample)"
   ]
  },
  {
   "cell_type": "code",
   "execution_count": null,
   "id": "18eac20a",
   "metadata": {},
   "outputs": [],
   "source": []
  },
  {
   "cell_type": "code",
   "execution_count": null,
   "id": "28bababf",
   "metadata": {},
   "outputs": [],
   "source": [
    "def turn_right():\n",
    "     turn_left()\n",
    "     turn_left()\n",
    "     turn_left()\n",
    "        \n",
    "def turn_around():\n",
    "    turn_left()\n",
    "    turn_left()\n",
    "\n",
    "def cuadradinho():\n",
    "    move()\n",
    "    turn_right()\n",
    "    turn_around()\n",
    "\n",
    "cuadradinho()\n",
    "cuadradinho()\n",
    "cuadradinho()\n",
    "cuadradinho()\n",
    "    \n",
    "    \n",
    "#move()\n",
    "#turn_right()\n",
    "#turn_around()"
   ]
  },
  {
   "cell_type": "code",
   "execution_count": 73,
   "id": "d637728e",
   "metadata": {},
   "outputs": [
    {
     "ename": "IndentationError",
     "evalue": "expected an indented block (1504993623.py, line 2)",
     "output_type": "error",
     "traceback": [
      "\u001b[1;36m  File \u001b[1;32m\"C:\\Users\\espan\\AppData\\Local\\Temp\\ipykernel_14176\\1504993623.py\"\u001b[1;36m, line \u001b[1;32m2\u001b[0m\n\u001b[1;33m    print(\"Hello\")\u001b[0m\n\u001b[1;37m    ^\u001b[0m\n\u001b[1;31mIndentationError\u001b[0m\u001b[1;31m:\u001b[0m expected an indented block\n"
     ]
    }
   ],
   "source": [
    "def my_function():\n",
    "print(\"Hello\")\n"
   ]
  },
  {
   "cell_type": "code",
   "execution_count": null,
   "id": "109e2b51",
   "metadata": {},
   "outputs": [],
   "source": [
    "def turn_right():\n",
    "     turn_left()\n",
    "     turn_left()\n",
    "     turn_left()\n",
    "    \n",
    "def turn_square():\n",
    "      turn_left()\n",
    "      turn_left()\n",
    "      turn_left()\n",
    "      \n",
    "def robot_dancing():    \n",
    "    move()\n",
    "    turn_left()\n",
    "    move()\n",
    "    turn_square()\n",
    "    move()\n",
    "    turn_square()\n",
    "    move()\n",
    "    turn_left()\n",
    "  \n",
    "for step in range(6):\n",
    "    \n",
    "     robot_dancing()"
   ]
  },
  {
   "cell_type": "code",
   "execution_count": null,
   "id": "a1664c92",
   "metadata": {},
   "outputs": [],
   "source": []
  }
 ],
 "metadata": {
  "kernelspec": {
   "display_name": "Python 3 (ipykernel)",
   "language": "python",
   "name": "python3"
  },
  "language_info": {
   "codemirror_mode": {
    "name": "ipython",
    "version": 3
   },
   "file_extension": ".py",
   "mimetype": "text/x-python",
   "name": "python",
   "nbconvert_exporter": "python",
   "pygments_lexer": "ipython3",
   "version": "3.9.13"
  }
 },
 "nbformat": 4,
 "nbformat_minor": 5
}
