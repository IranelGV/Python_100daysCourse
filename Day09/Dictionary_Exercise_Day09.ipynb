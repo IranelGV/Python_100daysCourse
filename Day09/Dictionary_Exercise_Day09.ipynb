{
 "cells": [
  {
   "cell_type": "markdown",
   "id": "f432f9bc",
   "metadata": {},
   "source": [
    "This is the scoring criteria:\n",
    "\n",
    "Scores 91 - 100: Grade = \"Outstanding\"\n",
    "\n",
    "Scores 81 - 90: Grade = \"Exceeds Expectations\"\n",
    "\n",
    "Scores 71 - 80: Grade = \"Acceptable\"\n",
    "\n",
    "Scores 70 or lower: Grade = \"Fail\""
   ]
  },
  {
   "cell_type": "code",
   "execution_count": 1,
   "id": "8702896c",
   "metadata": {},
   "outputs": [
    {
     "name": "stdout",
     "output_type": "stream",
     "text": [
      "{'Harry': 'Exceeds Expectations', 'Ron': 'Acceptable', 'Hermione': 'Outstanding', 'Draco': 'Acceptable'}\n"
     ]
    }
   ],
   "source": [
    "student_scores = {\n",
    "  \"Harry\": 81,\n",
    "  \"Ron\": 78,\n",
    "  \"Hermione\": 99, \n",
    "  \"Draco\": 74,\n",
    "  \"Neville\": 62,\n",
    "}\n",
    "# 🚨 Don't change the code above 👆\n",
    "# TODO-1: Create an empty dictionary called student_grades.\n",
    "\n",
    "student_grades = {}\n",
    "\n",
    "# TODO-2: Write your code below to add the grades to student_grades.👇\n",
    "\n",
    "for student in student_scores:\n",
    "    \n",
    "    if student_scores[student] >= 90:\n",
    "        \n",
    "        student_grades[student] = \"Outstanding\"\n",
    "        \n",
    "    elif 80 < student_scores[student] < 90:\n",
    "        \n",
    "        student_grades[student] = \"Exceeds Expectations\"\n",
    "        \n",
    "    elif 70 < student_scores[student] < 80:\n",
    "        \n",
    "        student_grades[student] = \"Acceptable\"\n",
    "    \n",
    "    elif  student_scores[student] < 60:\n",
    "        \n",
    "        student_grades[student] = \"fail\"\n",
    "        \n",
    "        \n",
    "\n",
    "# 🚨 Don't change the code below 👇\n",
    "print(student_grades)"
   ]
  },
  {
   "cell_type": "code",
   "execution_count": null,
   "id": "f58ca8b0",
   "metadata": {},
   "outputs": [],
   "source": []
  }
 ],
 "metadata": {
  "kernelspec": {
   "display_name": "Python 3 (ipykernel)",
   "language": "python",
   "name": "python3"
  },
  "language_info": {
   "codemirror_mode": {
    "name": "ipython",
    "version": 3
   },
   "file_extension": ".py",
   "mimetype": "text/x-python",
   "name": "python",
   "nbconvert_exporter": "python",
   "pygments_lexer": "ipython3",
   "version": "3.9.13"
  }
 },
 "nbformat": 4,
 "nbformat_minor": 5
}
