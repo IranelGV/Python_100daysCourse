{
 "cells": [
  {
   "cell_type": "code",
   "execution_count": 4,
   "id": "ee45acee",
   "metadata": {},
   "outputs": [],
   "source": [
    "travel_log = { \"France\" : {\"Paris\":2, \"Dijon\": 3}, \n",
    "              \"Brazil\" :  {\"Sao Paulo\": 5, \"Rio Janeiro\": 4, \"Sao Jose dos Campos\": 10}}"
   ]
  },
  {
   "cell_type": "code",
   "execution_count": 6,
   "id": "bc6675a9",
   "metadata": {},
   "outputs": [],
   "source": [
    "# Nesting Dictionary in a Dictionary\n",
    "\n",
    "\n",
    "travel_log = {\"France\": {\"cities_visited\": [\"Paris\", \"Dijon\"], \"total_visits\":12,}, \n",
    "              \"Brazil\": {\"cities_visited\": [\"Sao Paulo\", \"Rio de Janeiro\", \"Sao Jose dos Campos\"], \"total_visited\": 20}}"
   ]
  },
  {
   "cell_type": "code",
   "execution_count": 57,
   "id": "1f970dd9",
   "metadata": {},
   "outputs": [
    {
     "ename": "TypeError",
     "evalue": "list indices must be integers or slices, not str",
     "output_type": "error",
     "traceback": [
      "\u001b[1;31m---------------------------------------------------------------------------\u001b[0m",
      "\u001b[1;31mTypeError\u001b[0m                                 Traceback (most recent call last)",
      "\u001b[1;32m~\\AppData\\Local\\Temp\\ipykernel_21924\\2839599607.py\u001b[0m in \u001b[0;36m<module>\u001b[1;34m\u001b[0m\n\u001b[1;32m----> 1\u001b[1;33m \u001b[0mtravel_log\u001b[0m\u001b[1;33m[\u001b[0m\u001b[1;34m\"Venezuela\"\u001b[0m\u001b[1;33m]\u001b[0m \u001b[1;33m=\u001b[0m \u001b[1;33m{\u001b[0m\u001b[1;34m\"cities_visited\"\u001b[0m\u001b[1;33m:\u001b[0m\u001b[1;33m[\u001b[0m\u001b[1;34m\"Caracas\"\u001b[0m\u001b[1;33m,\u001b[0m \u001b[1;34m\"Maracay\"\u001b[0m\u001b[1;33m]\u001b[0m\u001b[1;33m,\u001b[0m \u001b[1;34m\"total_visited\"\u001b[0m\u001b[1;33m:\u001b[0m \u001b[1;36m2\u001b[0m\u001b[1;33m}\u001b[0m\u001b[1;33m\u001b[0m\u001b[1;33m\u001b[0m\u001b[0m\n\u001b[0m",
      "\u001b[1;31mTypeError\u001b[0m: list indices must be integers or slices, not str"
     ]
    }
   ],
   "source": [
    "travel_log[\"Venezuela\"] = {\"cities_visited\":[\"Caracas\", \"Maracay\"], \"total_visited\": 2}"
   ]
  },
  {
   "cell_type": "code",
   "execution_count": 7,
   "id": "27f7192c",
   "metadata": {},
   "outputs": [],
   "source": [
    "# Nesting a Dictionary in a List\n",
    "\n",
    "\n",
    "travel_log = [\n",
    "    \n",
    "             {\n",
    "               \"Country\":\"France\",\n",
    "               \"cities_visited\": [\"Paris\", \"Dijon\"], \n",
    "               \"total_visits\":12\n",
    "              },\n",
    "\n",
    "             {\n",
    "               \"Country\":\"Brazil\", \n",
    "               \"cities_visited\": [\"Sao Paulo\", \"Rio de Janeiro\", \"Sao Jose dos Campos\"], \n",
    "               \"total_visited\": 20\n",
    "             \n",
    "             },\n",
    "\n",
    "             ]\n",
    "\n"
   ]
  },
  {
   "cell_type": "markdown",
   "id": "47b52769",
   "metadata": {},
   "source": [
    "### Exercise 23"
   ]
  },
  {
   "cell_type": "code",
   "execution_count": 51,
   "id": "a173863f",
   "metadata": {},
   "outputs": [
    {
     "name": "stdout",
     "output_type": "stream",
     "text": [
      "Spain\n",
      "12\n",
      "[\"Madrid\", \"Barcelona\", \"Malaga\", \"Tarragona\", \"Cádiz\", \"Toledo\"]\n",
      "I've been to Spain 12 times.\n",
      "My favourite city was Madrid.\n"
     ]
    }
   ],
   "source": [
    "country = input() # Add country name\n",
    "visits = int(input()) # Number of visits\n",
    "list_of_cities = eval(input()) # create list from formatted string\n",
    "\n",
    "travel_log = [\n",
    "  {\n",
    "    \"country\": \"France\",\n",
    "    \"visits\": 12,\n",
    "    \"cities\": [\"Paris\", \"Lille\", \"Dijon\"]\n",
    "  },\n",
    "  {\n",
    "    \"country\": \"Germany\",\n",
    "    \"visits\": 5,\n",
    "    \"cities\": [\"Berlin\", \"Hamburg\", \"Stuttgart\"]\n",
    "  },\n",
    "]\n",
    "# Do NOT change the code above 👆\n",
    "\n",
    "# TODO: Write the function that will allow new countries\n",
    "# to be added to the travel_log. \n",
    "\n",
    "def add_new_country(country, visits, list_of_cities):\n",
    "    \n",
    "    travel_log.append({\"country\":country, \"visits\": visits, \"cities\": list_of_cities})\n",
    "    \n",
    "\n",
    "\n",
    "# Do not change the code below 👇\n",
    "add_new_country(country, visits, list_of_cities)\n",
    "#print(f\"I've been to {travel_log[2]['country']}.\")\n",
    "\n",
    "#print(travel_log )\n",
    "\n",
    "print(f\"I've been to {travel_log[2]['country']} {travel_log[2]['visits']} times.\")\n",
    "print(f\"My favourite city was {travel_log[2]['cities'][0]}.\")"
   ]
  },
  {
   "cell_type": "code",
   "execution_count": null,
   "id": "c382652e",
   "metadata": {},
   "outputs": [],
   "source": [
    "# en mi lista puedo adicionar diccionarios usando append"
   ]
  },
  {
   "cell_type": "code",
   "execution_count": 20,
   "id": "ddd083e1",
   "metadata": {},
   "outputs": [],
   "source": [
    "travel_log = [\n",
    "  {\n",
    "    \"country\": \"France\",\n",
    "    \"visits\": 12,\n",
    "    \"cities\": [\"Paris\", \"Lille\", \"Dijon\"]\n",
    "  },\n",
    "  {\n",
    "    \"country\": \"Germany\",\n",
    "    \"visits\": 5,\n",
    "    \"cities\": [\"Berlin\", \"Hamburg\", \"Stuttgart\"]\n",
    "  },\n",
    "]"
   ]
  },
  {
   "cell_type": "code",
   "execution_count": 35,
   "id": "b32982a3",
   "metadata": {},
   "outputs": [],
   "source": [
    "# en mi lista puedo adicionar diccionarios usando append\n",
    "travel_log.append({\"country\":\"Spain\"})\n",
    "\n",
    "travel_log[2][\"cities\"]= [\"Madrid\", \"Barcelona\", \"Malaga\", \"Tarragona\", \"Cádiz\", \"Toledo\"]"
   ]
  },
  {
   "cell_type": "code",
   "execution_count": 37,
   "id": "9cc17bfe",
   "metadata": {},
   "outputs": [
    {
     "data": {
      "text/plain": [
       "[{'country': 'France', 'visits': 12, 'cities': ['Paris', 'Lille', 'Dijon']},\n",
       " {'country': 'Germany',\n",
       "  'visits': 5,\n",
       "  'cities': ['Berlin', 'Hamburg', 'Stuttgart']},\n",
       " {'country': 'Madrid',\n",
       "  'cities': ['Madrid', 'Barcelona', 'Malaga', 'Tarragona', 'Cádiz', 'Toledo']},\n",
       " {'country': 'Spain'},\n",
       " {'country': 'Spain'}]"
      ]
     },
     "execution_count": 37,
     "metadata": {},
     "output_type": "execute_result"
    }
   ],
   "source": [
    "travel_log"
   ]
  },
  {
   "cell_type": "code",
   "execution_count": 21,
   "id": "92042896",
   "metadata": {},
   "outputs": [],
   "source": [
    "countries = {\"Madrid\": 3, \"Colombia\":4}"
   ]
  },
  {
   "cell_type": "code",
   "execution_count": 22,
   "id": "15536c81",
   "metadata": {},
   "outputs": [],
   "source": [
    "countries[\"Venezuela\"] = 5"
   ]
  },
  {
   "cell_type": "code",
   "execution_count": 23,
   "id": "fee744e4",
   "metadata": {},
   "outputs": [
    {
     "data": {
      "text/plain": [
       "{'Madrid': 3, 'Colombia': 4, 'Venezuela': 5}"
      ]
     },
     "execution_count": 23,
     "metadata": {},
     "output_type": "execute_result"
    }
   ],
   "source": [
    "countries"
   ]
  },
  {
   "cell_type": "code",
   "execution_count": 24,
   "id": "9bf8bf46",
   "metadata": {},
   "outputs": [],
   "source": [
    "numeros = [1,2,3,5,6,7]"
   ]
  },
  {
   "cell_type": "code",
   "execution_count": 25,
   "id": "11d64323",
   "metadata": {},
   "outputs": [],
   "source": [
    "numeros[3]=4"
   ]
  },
  {
   "cell_type": "code",
   "execution_count": 26,
   "id": "2e990cb4",
   "metadata": {},
   "outputs": [
    {
     "data": {
      "text/plain": [
       "[1, 2, 3, 4, 6, 7]"
      ]
     },
     "execution_count": 26,
     "metadata": {},
     "output_type": "execute_result"
    }
   ],
   "source": [
    "numeros"
   ]
  },
  {
   "cell_type": "code",
   "execution_count": 28,
   "id": "6c8b7696",
   "metadata": {},
   "outputs": [
    {
     "ename": "IndexError",
     "evalue": "list assignment index out of range",
     "output_type": "error",
     "traceback": [
      "\u001b[1;31m---------------------------------------------------------------------------\u001b[0m",
      "\u001b[1;31mIndexError\u001b[0m                                Traceback (most recent call last)",
      "\u001b[1;32m~\\AppData\\Local\\Temp\\ipykernel_21924\\2356913529.py\u001b[0m in \u001b[0;36m<module>\u001b[1;34m\u001b[0m\n\u001b[1;32m----> 1\u001b[1;33m \u001b[0mnumeros\u001b[0m\u001b[1;33m[\u001b[0m\u001b[1;36m6\u001b[0m\u001b[1;33m]\u001b[0m\u001b[1;33m=\u001b[0m\u001b[1;36m8\u001b[0m\u001b[1;33m\u001b[0m\u001b[1;33m\u001b[0m\u001b[0m\n\u001b[0m",
      "\u001b[1;31mIndexError\u001b[0m: list assignment index out of range"
     ]
    }
   ],
   "source": [
    "numeros[6]=8"
   ]
  },
  {
   "cell_type": "code",
   "execution_count": null,
   "id": "45ae3dd1",
   "metadata": {},
   "outputs": [],
   "source": []
  }
 ],
 "metadata": {
  "kernelspec": {
   "display_name": "Python 3 (ipykernel)",
   "language": "python",
   "name": "python3"
  },
  "language_info": {
   "codemirror_mode": {
    "name": "ipython",
    "version": 3
   },
   "file_extension": ".py",
   "mimetype": "text/x-python",
   "name": "python",
   "nbconvert_exporter": "python",
   "pygments_lexer": "ipython3",
   "version": "3.9.13"
  }
 },
 "nbformat": 4,
 "nbformat_minor": 5
}
