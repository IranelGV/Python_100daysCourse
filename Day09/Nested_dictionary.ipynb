{
 "cells": [
  {
   "cell_type": "code",
   "execution_count": 4,
   "id": "94941c5c",
   "metadata": {},
   "outputs": [],
   "source": [
    "travel_log = { \"France\" : {\"Paris\":2, \"Dijon\": 3}, \n",
    "              \"Brazil\" :  {\"Sao Paulo\": 5, \"Rio Janeiro\": 4, \"Sao Jose dos Campos\": 10}}"
   ]
  },
  {
   "cell_type": "code",
   "execution_count": 6,
   "id": "70fad554",
   "metadata": {},
   "outputs": [],
   "source": [
    "# Nesting Dictionary in a Dictionary\n",
    "\n",
    "\n",
    "travel_log = {\"France\": {\"cities_visited\": [\"Paris\", \"Dijon\"], \"total_visits\":12,}, \n",
    "              \"Brazil\": {\"cities_visited\": [\"Sao Paulo\", \"Rio de Janeiro\", \"Sao Jose dos Campos\"], \"total_visited\": 20}}"
   ]
  },
  {
   "cell_type": "code",
   "execution_count": null,
   "id": "d35f3d8a",
   "metadata": {},
   "outputs": [],
   "source": [
    "# Nesting a Dictionary in a List\n",
    "\n"
   ]
  }
 ],
 "metadata": {
  "kernelspec": {
   "display_name": "Python 3 (ipykernel)",
   "language": "python",
   "name": "python3"
  },
  "language_info": {
   "codemirror_mode": {
    "name": "ipython",
    "version": 3
   },
   "file_extension": ".py",
   "mimetype": "text/x-python",
   "name": "python",
   "nbconvert_exporter": "python",
   "pygments_lexer": "ipython3",
   "version": "3.9.13"
  }
 },
 "nbformat": 4,
 "nbformat_minor": 5
}
